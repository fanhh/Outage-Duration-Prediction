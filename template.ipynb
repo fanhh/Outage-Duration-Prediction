{
 "cells": [
  {
   "cell_type": "markdown",
   "metadata": {},
   "source": [
    "# Outage Duration Prediction\n",
    "\n",
    "**Name(s)**: Neil Sharma, Xiang Ding\n",
    "\n",
    "**Website Link**: (your website link)"
   ]
  },
  {
   "cell_type": "markdown",
   "metadata": {},
   "source": [
    "## Code"
   ]
  },
  {
   "cell_type": "code",
   "execution_count": 4,
   "metadata": {
    "ExecuteTime": {
     "end_time": "2019-10-31T23:36:28.652554Z",
     "start_time": "2019-10-31T23:36:27.180520Z"
    }
   },
   "outputs": [],
   "source": [
    "import pandas as pd\n",
    "import numpy as np\n",
    "import os\n",
    "\n",
    "from sklearn.model_selection import train_test_split\n",
    "from sklearn.preprocessing import OneHotEncoder, StandardScaler\n",
    "from sklearn.compose import ColumnTransformer\n",
    "from sklearn.pipeline import Pipeline\n",
    "from sklearn.ensemble import RandomForestRegressor\n",
    "from sklearn.linear_model import LinearRegression\n",
    "from sklearn.metrics import mean_squared_error\n",
    "\n",
    "import plotly.express as px\n",
    "import plotly.graph_objects as go\n",
    "pd.options.plotting.backend = 'plotly'"
   ]
  },
  {
   "cell_type": "markdown",
   "metadata": {},
   "source": [
    "### Framing the Problem"
   ]
  },
  {
   "cell_type": "markdown",
   "metadata": {},
   "source": [
    "Prediction Problem Type: This problem type is regression, as we are trying to predict a continuous quantity, in this case how long an outage occurs.\n",
    "\n",
    "Response Variable: Our response variable will be, in minutes, how long an outage occurs for. This value can be seen in the dataset as 'OUTAGE.DURATION'\n",
    "\n",
    "Metric: We will use mean squared error (MSE) loss as our metric for evaluation. We decided on MSE due to its sensitivity to outliers and its ability to be easily understood as it maintains the same units as our response variable, 'OUTAGE.DURATION'."
   ]
  },
  {
   "cell_type": "code",
   "execution_count": 43,
   "metadata": {
    "ExecuteTime": {
     "end_time": "2019-10-31T23:36:28.657068Z",
     "start_time": "2019-10-31T23:36:28.654650Z"
    }
   },
   "outputs": [
    {
     "data": {
      "text/html": [
       "<div>\n",
       "<style scoped>\n",
       "    .dataframe tbody tr th:only-of-type {\n",
       "        vertical-align: middle;\n",
       "    }\n",
       "\n",
       "    .dataframe tbody tr th {\n",
       "        vertical-align: top;\n",
       "    }\n",
       "\n",
       "    .dataframe thead th {\n",
       "        text-align: right;\n",
       "    }\n",
       "</style>\n",
       "<table border=\"1\" class=\"dataframe\">\n",
       "  <thead>\n",
       "    <tr style=\"text-align: right;\">\n",
       "      <th></th>\n",
       "      <th>YEAR</th>\n",
       "      <th>MONTH</th>\n",
       "      <th>NERC.REGION</th>\n",
       "      <th>CLIMATE.REGION</th>\n",
       "      <th>ANOMALY.LEVEL</th>\n",
       "      <th>CLIMATE.CATEGORY</th>\n",
       "      <th>CAUSE.CATEGORY</th>\n",
       "      <th>OUTAGE.DURATION</th>\n",
       "      <th>DEMAND.LOSS.MW</th>\n",
       "      <th>CUSTOMERS.AFFECTED</th>\n",
       "      <th>OUTAGE.START.TIME</th>\n",
       "      <th>OUTAGE.RESTORATION.TIME</th>\n",
       "      <th>POPULATION</th>\n",
       "      <th>OUTAGE.START.CATEGORY</th>\n",
       "      <th>OUTAGE.END.CATEGORY</th>\n",
       "    </tr>\n",
       "    <tr>\n",
       "      <th>OBS</th>\n",
       "      <th></th>\n",
       "      <th></th>\n",
       "      <th></th>\n",
       "      <th></th>\n",
       "      <th></th>\n",
       "      <th></th>\n",
       "      <th></th>\n",
       "      <th></th>\n",
       "      <th></th>\n",
       "      <th></th>\n",
       "      <th></th>\n",
       "      <th></th>\n",
       "      <th></th>\n",
       "      <th></th>\n",
       "      <th></th>\n",
       "    </tr>\n",
       "  </thead>\n",
       "  <tbody>\n",
       "    <tr>\n",
       "      <th>1.0</th>\n",
       "      <td>2011.0</td>\n",
       "      <td>7.0</td>\n",
       "      <td>MRO</td>\n",
       "      <td>East North Central</td>\n",
       "      <td>-0.3</td>\n",
       "      <td>normal</td>\n",
       "      <td>severe weather</td>\n",
       "      <td>3060</td>\n",
       "      <td>NaN</td>\n",
       "      <td>70000.0</td>\n",
       "      <td>17:00:00</td>\n",
       "      <td>20:00:00</td>\n",
       "      <td>5348119.0</td>\n",
       "      <td>Afternoon/Evening</td>\n",
       "      <td>Afternoon/Evening</td>\n",
       "    </tr>\n",
       "    <tr>\n",
       "      <th>3.0</th>\n",
       "      <td>2010.0</td>\n",
       "      <td>10.0</td>\n",
       "      <td>MRO</td>\n",
       "      <td>East North Central</td>\n",
       "      <td>-1.5</td>\n",
       "      <td>cold</td>\n",
       "      <td>severe weather</td>\n",
       "      <td>3000</td>\n",
       "      <td>NaN</td>\n",
       "      <td>70000.0</td>\n",
       "      <td>20:00:00</td>\n",
       "      <td>22:00:00</td>\n",
       "      <td>5310903.0</td>\n",
       "      <td>Afternoon/Evening</td>\n",
       "      <td>Afternoon/Evening</td>\n",
       "    </tr>\n",
       "    <tr>\n",
       "      <th>4.0</th>\n",
       "      <td>2012.0</td>\n",
       "      <td>6.0</td>\n",
       "      <td>MRO</td>\n",
       "      <td>East North Central</td>\n",
       "      <td>-0.1</td>\n",
       "      <td>normal</td>\n",
       "      <td>severe weather</td>\n",
       "      <td>2550</td>\n",
       "      <td>NaN</td>\n",
       "      <td>68200.0</td>\n",
       "      <td>04:30:00</td>\n",
       "      <td>23:00:00</td>\n",
       "      <td>5380443.0</td>\n",
       "      <td>Afternoon/Evening</td>\n",
       "      <td>Afternoon/Evening</td>\n",
       "    </tr>\n",
       "    <tr>\n",
       "      <th>5.0</th>\n",
       "      <td>2015.0</td>\n",
       "      <td>7.0</td>\n",
       "      <td>MRO</td>\n",
       "      <td>East North Central</td>\n",
       "      <td>1.2</td>\n",
       "      <td>warm</td>\n",
       "      <td>severe weather</td>\n",
       "      <td>1740</td>\n",
       "      <td>250</td>\n",
       "      <td>250000.0</td>\n",
       "      <td>02:00:00</td>\n",
       "      <td>07:00:00</td>\n",
       "      <td>5489594.0</td>\n",
       "      <td>Afternoon/Evening</td>\n",
       "      <td>Afternoon/Evening</td>\n",
       "    </tr>\n",
       "    <tr>\n",
       "      <th>6.0</th>\n",
       "      <td>2010.0</td>\n",
       "      <td>11.0</td>\n",
       "      <td>MRO</td>\n",
       "      <td>East North Central</td>\n",
       "      <td>-1.4</td>\n",
       "      <td>cold</td>\n",
       "      <td>severe weather</td>\n",
       "      <td>1860</td>\n",
       "      <td>NaN</td>\n",
       "      <td>60000.0</td>\n",
       "      <td>15:00:00</td>\n",
       "      <td>22:00:00</td>\n",
       "      <td>5310903.0</td>\n",
       "      <td>Afternoon/Evening</td>\n",
       "      <td>Afternoon/Evening</td>\n",
       "    </tr>\n",
       "    <tr>\n",
       "      <th>...</th>\n",
       "      <td>...</td>\n",
       "      <td>...</td>\n",
       "      <td>...</td>\n",
       "      <td>...</td>\n",
       "      <td>...</td>\n",
       "      <td>...</td>\n",
       "      <td>...</td>\n",
       "      <td>...</td>\n",
       "      <td>...</td>\n",
       "      <td>...</td>\n",
       "      <td>...</td>\n",
       "      <td>...</td>\n",
       "      <td>...</td>\n",
       "      <td>...</td>\n",
       "      <td>...</td>\n",
       "    </tr>\n",
       "    <tr>\n",
       "      <th>1523.0</th>\n",
       "      <td>2004.0</td>\n",
       "      <td>6.0</td>\n",
       "      <td>WECC</td>\n",
       "      <td>Northwest</td>\n",
       "      <td>0.3</td>\n",
       "      <td>normal</td>\n",
       "      <td>system operability disruption</td>\n",
       "      <td>95</td>\n",
       "      <td>157</td>\n",
       "      <td>35000.0</td>\n",
       "      <td>17:35:00</td>\n",
       "      <td>19:10:00</td>\n",
       "      <td>1391802.0</td>\n",
       "      <td>Afternoon/Evening</td>\n",
       "      <td>Afternoon/Evening</td>\n",
       "    </tr>\n",
       "    <tr>\n",
       "      <th>1524.0</th>\n",
       "      <td>2011.0</td>\n",
       "      <td>1.0</td>\n",
       "      <td>WECC</td>\n",
       "      <td>Northwest</td>\n",
       "      <td>-1.3</td>\n",
       "      <td>cold</td>\n",
       "      <td>intentional attack</td>\n",
       "      <td>360</td>\n",
       "      <td>0</td>\n",
       "      <td>0.0</td>\n",
       "      <td>07:00:00</td>\n",
       "      <td>13:00:00</td>\n",
       "      <td>1584134.0</td>\n",
       "      <td>Afternoon/Evening</td>\n",
       "      <td>Afternoon/Evening</td>\n",
       "    </tr>\n",
       "    <tr>\n",
       "      <th>1525.0</th>\n",
       "      <td>2003.0</td>\n",
       "      <td>6.0</td>\n",
       "      <td>WECC</td>\n",
       "      <td>Northwest</td>\n",
       "      <td>-0.1</td>\n",
       "      <td>normal</td>\n",
       "      <td>public appeal</td>\n",
       "      <td>1548</td>\n",
       "      <td>0</td>\n",
       "      <td>0.0</td>\n",
       "      <td>15:12:00</td>\n",
       "      <td>17:00:00</td>\n",
       "      <td>1363380.0</td>\n",
       "      <td>Afternoon/Evening</td>\n",
       "      <td>Afternoon/Evening</td>\n",
       "    </tr>\n",
       "    <tr>\n",
       "      <th>1527.0</th>\n",
       "      <td>2016.0</td>\n",
       "      <td>3.0</td>\n",
       "      <td>WECC</td>\n",
       "      <td>Northwest</td>\n",
       "      <td>1.6</td>\n",
       "      <td>warm</td>\n",
       "      <td>intentional attack</td>\n",
       "      <td>0</td>\n",
       "      <td>0</td>\n",
       "      <td>0.0</td>\n",
       "      <td>00:00:00</td>\n",
       "      <td>00:00:00</td>\n",
       "      <td>1680026.0</td>\n",
       "      <td>Afternoon/Evening</td>\n",
       "      <td>Afternoon/Evening</td>\n",
       "    </tr>\n",
       "    <tr>\n",
       "      <th>1530.0</th>\n",
       "      <td>2011.0</td>\n",
       "      <td>12.0</td>\n",
       "      <td>MRO</td>\n",
       "      <td>West North Central</td>\n",
       "      <td>-0.9</td>\n",
       "      <td>cold</td>\n",
       "      <td>public appeal</td>\n",
       "      <td>720</td>\n",
       "      <td>155</td>\n",
       "      <td>34500.0</td>\n",
       "      <td>08:00:00</td>\n",
       "      <td>20:00:00</td>\n",
       "      <td>685326.0</td>\n",
       "      <td>Afternoon/Evening</td>\n",
       "      <td>Afternoon/Evening</td>\n",
       "    </tr>\n",
       "  </tbody>\n",
       "</table>\n",
       "<p>1056 rows × 15 columns</p>\n",
       "</div>"
      ],
      "text/plain": [
       "          YEAR  MONTH NERC.REGION      CLIMATE.REGION ANOMALY.LEVEL  \\\n",
       "OBS                                                                   \n",
       "1.0     2011.0    7.0         MRO  East North Central          -0.3   \n",
       "3.0     2010.0   10.0         MRO  East North Central          -1.5   \n",
       "4.0     2012.0    6.0         MRO  East North Central          -0.1   \n",
       "5.0     2015.0    7.0         MRO  East North Central           1.2   \n",
       "6.0     2010.0   11.0         MRO  East North Central          -1.4   \n",
       "...        ...    ...         ...                 ...           ...   \n",
       "1523.0  2004.0    6.0        WECC           Northwest           0.3   \n",
       "1524.0  2011.0    1.0        WECC           Northwest          -1.3   \n",
       "1525.0  2003.0    6.0        WECC           Northwest          -0.1   \n",
       "1527.0  2016.0    3.0        WECC           Northwest           1.6   \n",
       "1530.0  2011.0   12.0         MRO  West North Central          -0.9   \n",
       "\n",
       "       CLIMATE.CATEGORY                 CAUSE.CATEGORY OUTAGE.DURATION  \\\n",
       "OBS                                                                      \n",
       "1.0              normal                 severe weather            3060   \n",
       "3.0                cold                 severe weather            3000   \n",
       "4.0              normal                 severe weather            2550   \n",
       "5.0                warm                 severe weather            1740   \n",
       "6.0                cold                 severe weather            1860   \n",
       "...                 ...                            ...             ...   \n",
       "1523.0           normal  system operability disruption              95   \n",
       "1524.0             cold             intentional attack             360   \n",
       "1525.0           normal                  public appeal            1548   \n",
       "1527.0             warm             intentional attack               0   \n",
       "1530.0             cold                  public appeal             720   \n",
       "\n",
       "       DEMAND.LOSS.MW  CUSTOMERS.AFFECTED OUTAGE.START.TIME  \\\n",
       "OBS                                                           \n",
       "1.0               NaN             70000.0          17:00:00   \n",
       "3.0               NaN             70000.0          20:00:00   \n",
       "4.0               NaN             68200.0          04:30:00   \n",
       "5.0               250            250000.0          02:00:00   \n",
       "6.0               NaN             60000.0          15:00:00   \n",
       "...               ...                 ...               ...   \n",
       "1523.0            157             35000.0          17:35:00   \n",
       "1524.0              0                 0.0          07:00:00   \n",
       "1525.0              0                 0.0          15:12:00   \n",
       "1527.0              0                 0.0          00:00:00   \n",
       "1530.0            155             34500.0          08:00:00   \n",
       "\n",
       "       OUTAGE.RESTORATION.TIME  POPULATION OUTAGE.START.CATEGORY  \\\n",
       "OBS                                                                \n",
       "1.0                   20:00:00   5348119.0     Afternoon/Evening   \n",
       "3.0                   22:00:00   5310903.0     Afternoon/Evening   \n",
       "4.0                   23:00:00   5380443.0     Afternoon/Evening   \n",
       "5.0                   07:00:00   5489594.0     Afternoon/Evening   \n",
       "6.0                   22:00:00   5310903.0     Afternoon/Evening   \n",
       "...                        ...         ...                   ...   \n",
       "1523.0                19:10:00   1391802.0     Afternoon/Evening   \n",
       "1524.0                13:00:00   1584134.0     Afternoon/Evening   \n",
       "1525.0                17:00:00   1363380.0     Afternoon/Evening   \n",
       "1527.0                00:00:00   1680026.0     Afternoon/Evening   \n",
       "1530.0                20:00:00    685326.0     Afternoon/Evening   \n",
       "\n",
       "       OUTAGE.END.CATEGORY  \n",
       "OBS                         \n",
       "1.0      Afternoon/Evening  \n",
       "3.0      Afternoon/Evening  \n",
       "4.0      Afternoon/Evening  \n",
       "5.0      Afternoon/Evening  \n",
       "6.0      Afternoon/Evening  \n",
       "...                    ...  \n",
       "1523.0   Afternoon/Evening  \n",
       "1524.0   Afternoon/Evening  \n",
       "1525.0   Afternoon/Evening  \n",
       "1527.0   Afternoon/Evening  \n",
       "1530.0   Afternoon/Evening  \n",
       "\n",
       "[1056 rows x 15 columns]"
      ]
     },
     "execution_count": 43,
     "metadata": {},
     "output_type": "execute_result"
    }
   ],
   "source": [
    "##################################################\n",
    "#     DATA CLEANING CODE FROM PROJECT 3          #\n",
    "##################################################\n",
    "df = pd.read_excel('outage.xlsx', skiprows = 5)\n",
    "\n",
    "df = df.set_index('OBS')\n",
    "df = df.iloc[1: , :]\n",
    "df = df[df.columns[1:]]\n",
    "\n",
    "df['OUTAGE.START.DATE'] = pd.to_datetime(df['OUTAGE.START.DATE'])\n",
    "df['OUTAGE.START.DATE'] = df['OUTAGE.START.DATE'].dt.date\n",
    "\n",
    "df['OUTAGE.RESTORATION.DATE'] = pd.to_datetime(df['OUTAGE.RESTORATION.DATE'])\n",
    "df['OUTAGE.RESTORATION.DATE'] = df['OUTAGE.RESTORATION.DATE'].dt.date\n",
    "df['CUSTOMERS.AFFECTED_MISSING'] = df['CUSTOMERS.AFFECTED'].isna().astype(int)\n",
    "\n",
    "\n",
    "df = df[[\"YEAR\", \"MONTH\", 'NERC.REGION', 'CLIMATE.REGION', 'ANOMALY.LEVEL', 'CLIMATE.CATEGORY', \n",
    "         'CAUSE.CATEGORY', 'OUTAGE.DURATION', 'DEMAND.LOSS.MW', 'CUSTOMERS.AFFECTED',\n",
    "         'OUTAGE.START.TIME', 'OUTAGE.RESTORATION.TIME', 'POPULATION']]\n",
    "df = df.dropna(subset=['ANOMALY.LEVEL', 'CLIMATE.CATEGORY', 'OUTAGE.DURATION', 'OUTAGE.START.TIME', 'OUTAGE.RESTORATION.TIME', 'CUSTOMERS.AFFECTED'])\n",
    "\n",
    "\n",
    "def categorize_time(time_str):\n",
    "    if pd.isna(time_str):\n",
    "        return 'Unknown'  \n",
    "    time = pd.to_datetime(time_str, format='%I:%M:%S %p', errors='coerce')\n",
    "    if time.hour < 12:\n",
    "        return 'Morning'\n",
    "    else:\n",
    "        return 'Afternoon/Evening'\n",
    "\n",
    "# Apply the function to create new columns\n",
    "df['OUTAGE.START.CATEGORY'] = df['OUTAGE.START.TIME'].apply(categorize_time)\n",
    "df['OUTAGE.END.CATEGORY'] = df['OUTAGE.RESTORATION.TIME'].apply(categorize_time)\n",
    "\n",
    "\n",
    "pd.set_option('display.max_columns', None)\n",
    "df"
   ]
  },
  {
   "cell_type": "markdown",
   "metadata": {},
   "source": [
    "### Baseline Model"
   ]
  },
  {
   "cell_type": "code",
   "execution_count": 46,
   "metadata": {
    "ExecuteTime": {
     "end_time": "2019-10-31T23:36:28.662099Z",
     "start_time": "2019-10-31T23:36:28.660016Z"
    }
   },
   "outputs": [
    {
     "name": "stdout",
     "output_type": "stream",
     "text": [
      "Mean Squared Error: 14099309.776195405\n"
     ]
    }
   ],
   "source": [
    "X = df[['ANOMALY.LEVEL', 'CUSTOMERS.AFFECTED','OUTAGE.START.CATEGORY', 'OUTAGE.END.CATEGORY']]\n",
    "y = df['OUTAGE.DURATION']\n",
    "\n",
    "# Split the data\n",
    "X_train, X_test, y_train, y_test = train_test_split(X, y, test_size=0.2)\n",
    "\n",
    "# Preprocessing for numerical data: no transformation needed\n",
    "# Preprocessing for categorical data: OneHotEncoder\n",
    "preprocessor = ColumnTransformer(\n",
    "    transformers=[\n",
    "        ('cat', OneHotEncoder(), ['OUTAGE.START.CATEGORY', 'OUTAGE.END.CATEGORY']),\n",
    "        ('standard', StandardScaler(), ['CUSTOMERS.AFFECTED', 'ANOMALY.LEVEL'])\n",
    "    ])\n",
    "\n",
    "# Create a pipeline\n",
    "model = Pipeline(steps=[('preprocessor', preprocessor),\n",
    "                        ('regressor', LinearRegression())])\n",
    "\n",
    "# Train the model\n",
    "model.fit(X_train, y_train)\n",
    "\n",
    "# Predict and evaluate\n",
    "y_pred = model.predict(X_test)\n",
    "mse = mean_squared_error(y_test, y_pred)\n",
    "print(f'Mean Squared Error: {mse}')"
   ]
  },
  {
   "cell_type": "code",
   "execution_count": 45,
   "metadata": {},
   "outputs": [
    {
     "data": {
      "application/vnd.plotly.v1+json": {
       "config": {
        "plotlyServerURL": "https://plot.ly"
       },
       "data": [
        {
         "mode": "markers",
         "name": "Actual Values",
         "type": "scatter",
         "x": [
          0,
          1,
          2,
          3,
          4,
          5,
          6,
          7,
          8,
          9,
          10,
          11,
          12,
          13,
          14,
          15,
          16,
          17,
          18,
          19,
          20,
          21,
          22,
          23,
          24,
          25,
          26,
          27,
          28,
          29,
          30,
          31,
          32,
          33,
          34,
          35,
          36,
          37,
          38,
          39,
          40,
          41,
          42,
          43,
          44,
          45,
          46,
          47,
          48,
          49,
          50,
          51,
          52,
          53,
          54,
          55,
          56,
          57,
          58,
          59,
          60,
          61,
          62,
          63,
          64,
          65,
          66,
          67,
          68,
          69,
          70,
          71,
          72,
          73,
          74,
          75,
          76,
          77,
          78,
          79,
          80,
          81,
          82,
          83,
          84,
          85,
          86,
          87,
          88,
          89,
          90,
          91,
          92,
          93,
          94,
          95,
          96,
          97,
          98,
          99,
          100,
          101,
          102,
          103,
          104,
          105,
          106,
          107,
          108,
          109,
          110,
          111,
          112,
          113,
          114,
          115,
          116,
          117,
          118,
          119,
          120,
          121,
          122,
          123,
          124,
          125,
          126,
          127,
          128,
          129,
          130,
          131,
          132,
          133,
          134,
          135,
          136,
          137,
          138,
          139,
          140,
          141,
          142,
          143,
          144,
          145,
          146,
          147,
          148,
          149,
          150,
          151,
          152,
          153,
          154,
          155,
          156,
          157,
          158,
          159,
          160,
          161,
          162,
          163,
          164,
          165,
          166,
          167,
          168,
          169,
          170,
          171,
          172,
          173,
          174,
          175,
          176,
          177,
          178,
          179,
          180,
          181,
          182,
          183,
          184,
          185,
          186,
          187,
          188,
          189,
          190,
          191,
          192,
          193,
          194,
          195,
          196,
          197,
          198,
          199,
          200,
          201,
          202,
          203,
          204,
          205,
          206,
          207,
          208,
          209,
          210,
          211
         ],
         "y": [
          1068,
          870,
          103,
          2142,
          4050,
          1200,
          17865,
          488,
          1,
          73,
          0,
          1714,
          5227,
          1631,
          73,
          95,
          164,
          660,
          7320,
          300,
          0,
          0,
          1324,
          333,
          4290,
          1365,
          2460,
          17339,
          3360,
          2759,
          1135,
          575,
          1,
          360,
          17,
          4800,
          1895,
          53,
          3040,
          1046,
          2880,
          175,
          885,
          185,
          1452,
          9719,
          365,
          13215,
          11296,
          98,
          4113,
          1219,
          0,
          428,
          0,
          543,
          10080,
          4232,
          240,
          9480,
          30,
          1995,
          232,
          3525,
          4200,
          5054,
          2855,
          15180,
          1,
          9630,
          600,
          2655,
          2939,
          103,
          223,
          1830,
          2970,
          4285,
          3100,
          620,
          56,
          360,
          1950,
          285,
          285,
          1526,
          4680,
          2161,
          164,
          23700,
          210,
          103,
          868,
          5790,
          8880,
          5580,
          1320,
          420,
          360,
          10,
          1,
          270,
          5820,
          457,
          13430,
          4320,
          4110,
          136,
          8873,
          7560,
          1260,
          5,
          1,
          90,
          1450,
          2551,
          4260,
          3720,
          314,
          28,
          2880,
          3000,
          4254,
          1740,
          0,
          5855,
          11700,
          300,
          14101,
          2818,
          2490,
          0,
          1579,
          396,
          8670,
          30,
          213,
          8189,
          513,
          2880,
          1372,
          180,
          360,
          2880,
          31,
          61,
          420,
          245,
          7020,
          4380,
          0,
          11,
          1,
          2612,
          182,
          2820,
          9600,
          4560,
          10140,
          2690,
          1099,
          133,
          1,
          3,
          57,
          6787,
          5730,
          2435,
          2140,
          4242,
          2730,
          13140,
          0,
          373,
          4338,
          60,
          1367,
          6,
          0,
          0,
          49,
          3894,
          3060,
          110,
          115,
          0,
          900,
          4080,
          1770,
          224,
          6690,
          5355,
          17812,
          624,
          0,
          480,
          1440,
          4485,
          805,
          557,
          2009,
          6492,
          960,
          7440,
          3090,
          108,
          8077,
          685,
          2790,
          1500,
          204,
          1
         ]
        },
        {
         "mode": "markers",
         "name": "Predicted Values",
         "type": "scatter",
         "x": [
          0,
          1,
          2,
          3,
          4,
          5,
          6,
          7,
          8,
          9,
          10,
          11,
          12,
          13,
          14,
          15,
          16,
          17,
          18,
          19,
          20,
          21,
          22,
          23,
          24,
          25,
          26,
          27,
          28,
          29,
          30,
          31,
          32,
          33,
          34,
          35,
          36,
          37,
          38,
          39,
          40,
          41,
          42,
          43,
          44,
          45,
          46,
          47,
          48,
          49,
          50,
          51,
          52,
          53,
          54,
          55,
          56,
          57,
          58,
          59,
          60,
          61,
          62,
          63,
          64,
          65,
          66,
          67,
          68,
          69,
          70,
          71,
          72,
          73,
          74,
          75,
          76,
          77,
          78,
          79,
          80,
          81,
          82,
          83,
          84,
          85,
          86,
          87,
          88,
          89,
          90,
          91,
          92,
          93,
          94,
          95,
          96,
          97,
          98,
          99,
          100,
          101,
          102,
          103,
          104,
          105,
          106,
          107,
          108,
          109,
          110,
          111,
          112,
          113,
          114,
          115,
          116,
          117,
          118,
          119,
          120,
          121,
          122,
          123,
          124,
          125,
          126,
          127,
          128,
          129,
          130,
          131,
          132,
          133,
          134,
          135,
          136,
          137,
          138,
          139,
          140,
          141,
          142,
          143,
          144,
          145,
          146,
          147,
          148,
          149,
          150,
          151,
          152,
          153,
          154,
          155,
          156,
          157,
          158,
          159,
          160,
          161,
          162,
          163,
          164,
          165,
          166,
          167,
          168,
          169,
          170,
          171,
          172,
          173,
          174,
          175,
          176,
          177,
          178,
          179,
          180,
          181,
          182,
          183,
          184,
          185,
          186,
          187,
          188,
          189,
          190,
          191,
          192,
          193,
          194,
          195,
          196,
          197,
          198,
          199,
          200,
          201,
          202,
          203,
          204,
          205,
          206,
          207,
          208,
          209,
          210,
          211
         ],
         "y": [
          2778.349470915616,
          3584.025179921756,
          2201.3061526547444,
          2705.761680298082,
          2721.1984327731334,
          3125.840272702426,
          2571.8197768912573,
          2883.880738971387,
          2346.888750088399,
          2656.251769634915,
          2164.9105032963307,
          2654.4299115511367,
          2269.0770176676597,
          2360.0661410636935,
          2237.701802013158,
          2183.1083279755376,
          2692.6474189933288,
          2669.926658336849,
          2722.924518733222,
          2304.7201090939557,
          2146.712678617124,
          2219.50783652207,
          2682.610410773623,
          2493.269170591636,
          2888.806478169487,
          2769.757197961928,
          2520.018939893063,
          3149.5998787910908,
          2890.500999294305,
          4295.778750063684,
          2255.899626692365,
          2201.3061526547444,
          2346.888750088399,
          2588.354645280917,
          3249.875640208386,
          2947.0886284693656,
          2055.72355522109,
          2258.2095276762643,
          2607.054180664522,
          2128.514853937917,
          2550.4591869028636,
          2255.899626692365,
          2457.675524782646,
          2597.73597780799,
          2599.8017048204474,
          3845.3834209182987,
          2507.07839080053,
          3187.417124535768,
          2406.972803699059,
          2474.2735228428464,
          3284.7714642982005,
          2292.2952760507787,
          2110.31702925871,
          2128.514853937917,
          2128.514853937917,
          2650.791388485464,
          2292.2952760507787,
          2960.031670338335,
          4044.9315223440926,
          3123.715242709629,
          2410.2671514428826,
          3172.25329679927,
          2795.0576489809805,
          2539.848156026546,
          2604.3246732956377,
          2444.4350041368098,
          2693.4687509812634,
          12098.162872176676,
          2346.888750088399,
          3120.0876058779913,
          2776.388312020964,
          2476.9714653764604,
          3252.375332740425,
          2678.7473634667413,
          2672.8462785455954,
          3413.656062321247,
          2371.6437054199823,
          3032.1612789386554,
          2738.2981415377326,
          2712.381940621,
          2201.3061526547444,
          2055.72355522109,
          2748.9968561229034,
          2237.701802013158,
          2476.645187085605,
          2199.643196365197,
          2418.6696490973895,
          2219.5039773339513,
          2507.7309473822406,
          2055.72355522109,
          2675.484580558188,
          2721.1984327731334,
          2442.257376917867,
          2472.547436882758,
          3064.132899803367,
          3144.408579441034,
          2659.900825144984,
          2788.467587081651,
          2527.239497112227,
          2055.72355522109,
          2237.701802013158,
          2094.3463099136698,
          3292.3898391853195,
          2055.72355522109,
          2274.097451371572,
          2328.6909254091925,
          2372.947065884164,
          2889.936158919366,
          2110.31702925871,
          5206.013870552069,
          2565.732792108008,
          2255.899626692365,
          2346.888750088399,
          2453.816336663883,
          2219.5039773339513,
          2707.9579121272977,
          2444.9682796764782,
          2684.80278341472,
          2274.097451371572,
          2255.899626692365,
          3201.933991328954,
          3545.4332987341268,
          2725.120750562438,
          3475.4662018919953,
          2110.31702925871,
          2649.035104101787,
          5116.527386492793,
          3684.897346549261,
          2274.097451371572,
          2528.2390268349864,
          2703.000608093927,
          2647.9334990376587,
          2884.322809154764,
          2327.088671009585,
          2282.3491031487665,
          2110.31702925871,
          2801.6765428922163,
          2292.2952760507787,
          2424.040947628387,
          2287.8712475570765,
          2530.6752196578864,
          2436.7587251789505,
          2510.66917220126,
          4691.58060517145,
          2656.251769634915,
          2239.6563201494505,
          3009.006150226078,
          2809.0405651531364,
          2798.3821951483924,
          3418.9431337949936,
          2237.701802013158,
          2029.6473748922485,
          2899.8192021508366,
          2391.5044863887365,
          4310.971344816253,
          3978.258773245786,
          2513.963519945084,
          3293.4879550999276,
          2413.3099443797073,
          2639.653771574714,
          2490.2435508575672,
          2191.152982503919,
          2310.4931007299856,
          2276.2936832007877,
          2237.701802013158,
          5670.18299588296,
          2798.3821951483924,
          2714.198894396699,
          2670.5272765248174,
          2780.8246419072607,
          2590.163205599017,
          2882.7826230567794,
          2055.72355522109,
          2626.4448157641486,
          2736.6983149187267,
          2492.4713475220533,
          3299.5118102126357,
          2384.7087936522757,
          2219.50783652207,
          2583.4604709180876,
          2766.410574283681,
          2559.410734390195,
          2507.844970326564,
          2273.206332705777,
          3504.6451857172815,
          2110.31702925871,
          2572.3530524309263,
          2841.9629452046634,
          2055.72355522109,
          2203.146985387394,
          2723.3946646023496,
          2688.0971311585436,
          2816.5800198275992,
          2723.3174645910153,
          4167.295861394628,
          2262.4567573447416,
          2659.4514228729267,
          2784.875036732722,
          2211.1891958862157,
          2201.3061526547444,
          2357.8699092344777,
          2898.15624586129,
          2511.1708829056583,
          2551.927431087233,
          2655.5922347541637,
          2201.3061526547444,
          3914.2524018458216,
          3351.00040676285,
          3913.154285931214,
          2692.019448947848,
          2730.204008894128,
          2310.4931007299856
         ]
        }
       ],
       "layout": {
        "template": {
         "data": {
          "bar": [
           {
            "error_x": {
             "color": "#2a3f5f"
            },
            "error_y": {
             "color": "#2a3f5f"
            },
            "marker": {
             "line": {
              "color": "#E5ECF6",
              "width": 0.5
             },
             "pattern": {
              "fillmode": "overlay",
              "size": 10,
              "solidity": 0.2
             }
            },
            "type": "bar"
           }
          ],
          "barpolar": [
           {
            "marker": {
             "line": {
              "color": "#E5ECF6",
              "width": 0.5
             },
             "pattern": {
              "fillmode": "overlay",
              "size": 10,
              "solidity": 0.2
             }
            },
            "type": "barpolar"
           }
          ],
          "carpet": [
           {
            "aaxis": {
             "endlinecolor": "#2a3f5f",
             "gridcolor": "white",
             "linecolor": "white",
             "minorgridcolor": "white",
             "startlinecolor": "#2a3f5f"
            },
            "baxis": {
             "endlinecolor": "#2a3f5f",
             "gridcolor": "white",
             "linecolor": "white",
             "minorgridcolor": "white",
             "startlinecolor": "#2a3f5f"
            },
            "type": "carpet"
           }
          ],
          "choropleth": [
           {
            "colorbar": {
             "outlinewidth": 0,
             "ticks": ""
            },
            "type": "choropleth"
           }
          ],
          "contour": [
           {
            "colorbar": {
             "outlinewidth": 0,
             "ticks": ""
            },
            "colorscale": [
             [
              0,
              "#0d0887"
             ],
             [
              0.1111111111111111,
              "#46039f"
             ],
             [
              0.2222222222222222,
              "#7201a8"
             ],
             [
              0.3333333333333333,
              "#9c179e"
             ],
             [
              0.4444444444444444,
              "#bd3786"
             ],
             [
              0.5555555555555556,
              "#d8576b"
             ],
             [
              0.6666666666666666,
              "#ed7953"
             ],
             [
              0.7777777777777778,
              "#fb9f3a"
             ],
             [
              0.8888888888888888,
              "#fdca26"
             ],
             [
              1,
              "#f0f921"
             ]
            ],
            "type": "contour"
           }
          ],
          "contourcarpet": [
           {
            "colorbar": {
             "outlinewidth": 0,
             "ticks": ""
            },
            "type": "contourcarpet"
           }
          ],
          "heatmap": [
           {
            "colorbar": {
             "outlinewidth": 0,
             "ticks": ""
            },
            "colorscale": [
             [
              0,
              "#0d0887"
             ],
             [
              0.1111111111111111,
              "#46039f"
             ],
             [
              0.2222222222222222,
              "#7201a8"
             ],
             [
              0.3333333333333333,
              "#9c179e"
             ],
             [
              0.4444444444444444,
              "#bd3786"
             ],
             [
              0.5555555555555556,
              "#d8576b"
             ],
             [
              0.6666666666666666,
              "#ed7953"
             ],
             [
              0.7777777777777778,
              "#fb9f3a"
             ],
             [
              0.8888888888888888,
              "#fdca26"
             ],
             [
              1,
              "#f0f921"
             ]
            ],
            "type": "heatmap"
           }
          ],
          "heatmapgl": [
           {
            "colorbar": {
             "outlinewidth": 0,
             "ticks": ""
            },
            "colorscale": [
             [
              0,
              "#0d0887"
             ],
             [
              0.1111111111111111,
              "#46039f"
             ],
             [
              0.2222222222222222,
              "#7201a8"
             ],
             [
              0.3333333333333333,
              "#9c179e"
             ],
             [
              0.4444444444444444,
              "#bd3786"
             ],
             [
              0.5555555555555556,
              "#d8576b"
             ],
             [
              0.6666666666666666,
              "#ed7953"
             ],
             [
              0.7777777777777778,
              "#fb9f3a"
             ],
             [
              0.8888888888888888,
              "#fdca26"
             ],
             [
              1,
              "#f0f921"
             ]
            ],
            "type": "heatmapgl"
           }
          ],
          "histogram": [
           {
            "marker": {
             "pattern": {
              "fillmode": "overlay",
              "size": 10,
              "solidity": 0.2
             }
            },
            "type": "histogram"
           }
          ],
          "histogram2d": [
           {
            "colorbar": {
             "outlinewidth": 0,
             "ticks": ""
            },
            "colorscale": [
             [
              0,
              "#0d0887"
             ],
             [
              0.1111111111111111,
              "#46039f"
             ],
             [
              0.2222222222222222,
              "#7201a8"
             ],
             [
              0.3333333333333333,
              "#9c179e"
             ],
             [
              0.4444444444444444,
              "#bd3786"
             ],
             [
              0.5555555555555556,
              "#d8576b"
             ],
             [
              0.6666666666666666,
              "#ed7953"
             ],
             [
              0.7777777777777778,
              "#fb9f3a"
             ],
             [
              0.8888888888888888,
              "#fdca26"
             ],
             [
              1,
              "#f0f921"
             ]
            ],
            "type": "histogram2d"
           }
          ],
          "histogram2dcontour": [
           {
            "colorbar": {
             "outlinewidth": 0,
             "ticks": ""
            },
            "colorscale": [
             [
              0,
              "#0d0887"
             ],
             [
              0.1111111111111111,
              "#46039f"
             ],
             [
              0.2222222222222222,
              "#7201a8"
             ],
             [
              0.3333333333333333,
              "#9c179e"
             ],
             [
              0.4444444444444444,
              "#bd3786"
             ],
             [
              0.5555555555555556,
              "#d8576b"
             ],
             [
              0.6666666666666666,
              "#ed7953"
             ],
             [
              0.7777777777777778,
              "#fb9f3a"
             ],
             [
              0.8888888888888888,
              "#fdca26"
             ],
             [
              1,
              "#f0f921"
             ]
            ],
            "type": "histogram2dcontour"
           }
          ],
          "mesh3d": [
           {
            "colorbar": {
             "outlinewidth": 0,
             "ticks": ""
            },
            "type": "mesh3d"
           }
          ],
          "parcoords": [
           {
            "line": {
             "colorbar": {
              "outlinewidth": 0,
              "ticks": ""
             }
            },
            "type": "parcoords"
           }
          ],
          "pie": [
           {
            "automargin": true,
            "type": "pie"
           }
          ],
          "scatter": [
           {
            "fillpattern": {
             "fillmode": "overlay",
             "size": 10,
             "solidity": 0.2
            },
            "type": "scatter"
           }
          ],
          "scatter3d": [
           {
            "line": {
             "colorbar": {
              "outlinewidth": 0,
              "ticks": ""
             }
            },
            "marker": {
             "colorbar": {
              "outlinewidth": 0,
              "ticks": ""
             }
            },
            "type": "scatter3d"
           }
          ],
          "scattercarpet": [
           {
            "marker": {
             "colorbar": {
              "outlinewidth": 0,
              "ticks": ""
             }
            },
            "type": "scattercarpet"
           }
          ],
          "scattergeo": [
           {
            "marker": {
             "colorbar": {
              "outlinewidth": 0,
              "ticks": ""
             }
            },
            "type": "scattergeo"
           }
          ],
          "scattergl": [
           {
            "marker": {
             "colorbar": {
              "outlinewidth": 0,
              "ticks": ""
             }
            },
            "type": "scattergl"
           }
          ],
          "scattermapbox": [
           {
            "marker": {
             "colorbar": {
              "outlinewidth": 0,
              "ticks": ""
             }
            },
            "type": "scattermapbox"
           }
          ],
          "scatterpolar": [
           {
            "marker": {
             "colorbar": {
              "outlinewidth": 0,
              "ticks": ""
             }
            },
            "type": "scatterpolar"
           }
          ],
          "scatterpolargl": [
           {
            "marker": {
             "colorbar": {
              "outlinewidth": 0,
              "ticks": ""
             }
            },
            "type": "scatterpolargl"
           }
          ],
          "scatterternary": [
           {
            "marker": {
             "colorbar": {
              "outlinewidth": 0,
              "ticks": ""
             }
            },
            "type": "scatterternary"
           }
          ],
          "surface": [
           {
            "colorbar": {
             "outlinewidth": 0,
             "ticks": ""
            },
            "colorscale": [
             [
              0,
              "#0d0887"
             ],
             [
              0.1111111111111111,
              "#46039f"
             ],
             [
              0.2222222222222222,
              "#7201a8"
             ],
             [
              0.3333333333333333,
              "#9c179e"
             ],
             [
              0.4444444444444444,
              "#bd3786"
             ],
             [
              0.5555555555555556,
              "#d8576b"
             ],
             [
              0.6666666666666666,
              "#ed7953"
             ],
             [
              0.7777777777777778,
              "#fb9f3a"
             ],
             [
              0.8888888888888888,
              "#fdca26"
             ],
             [
              1,
              "#f0f921"
             ]
            ],
            "type": "surface"
           }
          ],
          "table": [
           {
            "cells": {
             "fill": {
              "color": "#EBF0F8"
             },
             "line": {
              "color": "white"
             }
            },
            "header": {
             "fill": {
              "color": "#C8D4E3"
             },
             "line": {
              "color": "white"
             }
            },
            "type": "table"
           }
          ]
         },
         "layout": {
          "annotationdefaults": {
           "arrowcolor": "#2a3f5f",
           "arrowhead": 0,
           "arrowwidth": 1
          },
          "autotypenumbers": "strict",
          "coloraxis": {
           "colorbar": {
            "outlinewidth": 0,
            "ticks": ""
           }
          },
          "colorscale": {
           "diverging": [
            [
             0,
             "#8e0152"
            ],
            [
             0.1,
             "#c51b7d"
            ],
            [
             0.2,
             "#de77ae"
            ],
            [
             0.3,
             "#f1b6da"
            ],
            [
             0.4,
             "#fde0ef"
            ],
            [
             0.5,
             "#f7f7f7"
            ],
            [
             0.6,
             "#e6f5d0"
            ],
            [
             0.7,
             "#b8e186"
            ],
            [
             0.8,
             "#7fbc41"
            ],
            [
             0.9,
             "#4d9221"
            ],
            [
             1,
             "#276419"
            ]
           ],
           "sequential": [
            [
             0,
             "#0d0887"
            ],
            [
             0.1111111111111111,
             "#46039f"
            ],
            [
             0.2222222222222222,
             "#7201a8"
            ],
            [
             0.3333333333333333,
             "#9c179e"
            ],
            [
             0.4444444444444444,
             "#bd3786"
            ],
            [
             0.5555555555555556,
             "#d8576b"
            ],
            [
             0.6666666666666666,
             "#ed7953"
            ],
            [
             0.7777777777777778,
             "#fb9f3a"
            ],
            [
             0.8888888888888888,
             "#fdca26"
            ],
            [
             1,
             "#f0f921"
            ]
           ],
           "sequentialminus": [
            [
             0,
             "#0d0887"
            ],
            [
             0.1111111111111111,
             "#46039f"
            ],
            [
             0.2222222222222222,
             "#7201a8"
            ],
            [
             0.3333333333333333,
             "#9c179e"
            ],
            [
             0.4444444444444444,
             "#bd3786"
            ],
            [
             0.5555555555555556,
             "#d8576b"
            ],
            [
             0.6666666666666666,
             "#ed7953"
            ],
            [
             0.7777777777777778,
             "#fb9f3a"
            ],
            [
             0.8888888888888888,
             "#fdca26"
            ],
            [
             1,
             "#f0f921"
            ]
           ]
          },
          "colorway": [
           "#636efa",
           "#EF553B",
           "#00cc96",
           "#ab63fa",
           "#FFA15A",
           "#19d3f3",
           "#FF6692",
           "#B6E880",
           "#FF97FF",
           "#FECB52"
          ],
          "font": {
           "color": "#2a3f5f"
          },
          "geo": {
           "bgcolor": "white",
           "lakecolor": "white",
           "landcolor": "#E5ECF6",
           "showlakes": true,
           "showland": true,
           "subunitcolor": "white"
          },
          "hoverlabel": {
           "align": "left"
          },
          "hovermode": "closest",
          "mapbox": {
           "style": "light"
          },
          "paper_bgcolor": "white",
          "plot_bgcolor": "#E5ECF6",
          "polar": {
           "angularaxis": {
            "gridcolor": "white",
            "linecolor": "white",
            "ticks": ""
           },
           "bgcolor": "#E5ECF6",
           "radialaxis": {
            "gridcolor": "white",
            "linecolor": "white",
            "ticks": ""
           }
          },
          "scene": {
           "xaxis": {
            "backgroundcolor": "#E5ECF6",
            "gridcolor": "white",
            "gridwidth": 2,
            "linecolor": "white",
            "showbackground": true,
            "ticks": "",
            "zerolinecolor": "white"
           },
           "yaxis": {
            "backgroundcolor": "#E5ECF6",
            "gridcolor": "white",
            "gridwidth": 2,
            "linecolor": "white",
            "showbackground": true,
            "ticks": "",
            "zerolinecolor": "white"
           },
           "zaxis": {
            "backgroundcolor": "#E5ECF6",
            "gridcolor": "white",
            "gridwidth": 2,
            "linecolor": "white",
            "showbackground": true,
            "ticks": "",
            "zerolinecolor": "white"
           }
          },
          "shapedefaults": {
           "line": {
            "color": "#2a3f5f"
           }
          },
          "ternary": {
           "aaxis": {
            "gridcolor": "white",
            "linecolor": "white",
            "ticks": ""
           },
           "baxis": {
            "gridcolor": "white",
            "linecolor": "white",
            "ticks": ""
           },
           "bgcolor": "#E5ECF6",
           "caxis": {
            "gridcolor": "white",
            "linecolor": "white",
            "ticks": ""
           }
          },
          "title": {
           "x": 0.05
          },
          "xaxis": {
           "automargin": true,
           "gridcolor": "white",
           "linecolor": "white",
           "ticks": "",
           "title": {
            "standoff": 15
           },
           "zerolinecolor": "white",
           "zerolinewidth": 2
          },
          "yaxis": {
           "automargin": true,
           "gridcolor": "white",
           "linecolor": "white",
           "ticks": "",
           "title": {
            "standoff": 15
           },
           "zerolinecolor": "white",
           "zerolinewidth": 2
          }
         }
        },
        "title": {
         "text": "Actual vs Predicted Values"
        },
        "xaxis": {
         "title": {
          "text": "Index"
         }
        },
        "yaxis": {
         "title": {
          "text": "Outage Duration"
         }
        }
       }
      }
     },
     "metadata": {},
     "output_type": "display_data"
    }
   ],
   "source": [
    "trace0 = go.Scatter(\n",
    "    x=np.arange(len(y_test)),\n",
    "    y=y_test,\n",
    "    mode='markers',\n",
    "    name='Actual Values'\n",
    ")\n",
    "trace1 = go.Scatter(\n",
    "    x=np.arange(len(y_pred)),\n",
    "    y=y_pred,\n",
    "    mode='markers',\n",
    "    name='Predicted Values'\n",
    ")\n",
    "\n",
    "# Create layout\n",
    "layout = go.Layout(\n",
    "    title='Actual vs Predicted Values',\n",
    "    xaxis=dict(title='Index'),\n",
    "    yaxis=dict(title='Outage Duration')\n",
    ")\n",
    "\n",
    "# Create figure and add traces\n",
    "fig = go.Figure(data=[trace0, trace1], layout=layout)\n",
    "\n",
    "# Show plot\n",
    "fig.show()"
   ]
  },
  {
   "cell_type": "markdown",
   "metadata": {},
   "source": [
    "### Final Model"
   ]
  },
  {
   "cell_type": "code",
   "execution_count": null,
   "metadata": {
    "ExecuteTime": {
     "end_time": "2019-10-31T23:36:28.662099Z",
     "start_time": "2019-10-31T23:36:28.660016Z"
    }
   },
   "outputs": [],
   "source": [
    "# TODO"
   ]
  },
  {
   "cell_type": "markdown",
   "metadata": {},
   "source": [
    "### Fairness Analysis"
   ]
  },
  {
   "cell_type": "code",
   "execution_count": null,
   "metadata": {
    "ExecuteTime": {
     "end_time": "2019-10-31T23:36:28.666489Z",
     "start_time": "2019-10-31T23:36:28.664381Z"
    }
   },
   "outputs": [],
   "source": [
    "# TODO"
   ]
  }
 ],
 "metadata": {
  "kernelspec": {
   "display_name": "Python 3 (ipykernel)",
   "language": "python",
   "name": "python3"
  },
  "language_info": {
   "codemirror_mode": {
    "name": "ipython",
    "version": 3
   },
   "file_extension": ".py",
   "mimetype": "text/x-python",
   "name": "python",
   "nbconvert_exporter": "python",
   "pygments_lexer": "ipython3",
   "version": "3.8.18"
  }
 },
 "nbformat": 4,
 "nbformat_minor": 2
}
