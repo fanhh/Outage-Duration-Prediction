{
 "cells": [
  {
   "cell_type": "markdown",
   "metadata": {},
   "source": [
    "# Outage Duration Prediction\n",
    "\n",
    "**Name(s)**: Neil Sharma, Xiang Ding\n",
    "\n",
    "**Website Link**: (your website link)"
   ]
  },
  {
   "cell_type": "markdown",
   "metadata": {},
   "source": [
    "## Code"
   ]
  },
  {
   "cell_type": "code",
   "execution_count": 2,
   "metadata": {
    "ExecuteTime": {
     "end_time": "2019-10-31T23:36:28.652554Z",
     "start_time": "2019-10-31T23:36:27.180520Z"
    }
   },
   "outputs": [],
   "source": [
    "import pandas as pd\n",
    "import numpy as np\n",
    "import os\n",
    "\n",
    "from sklearn.model_selection import train_test_split, GridSearchCV\n",
    "from sklearn.metrics import mean_squared_error, mean_absolute_error\n",
    "\n",
    "# Preprocessing\n",
    "from sklearn.preprocessing import OneHotEncoder, StandardScaler, QuantileTransformer\n",
    "from sklearn.impute import SimpleImputer\n",
    "\n",
    "# Model selection\n",
    "from sklearn.ensemble import GradientBoostingRegressor, RandomForestRegressor\n",
    "from sklearn.linear_model import LinearRegression, HuberRegressor, QuantileRegressor\n",
    "\n",
    "# Pipeline\n",
    "from sklearn.compose import ColumnTransformer\n",
    "from sklearn.pipeline import Pipeline\n",
    "\n",
    "import plotly.express as px\n",
    "import plotly.graph_objects as go\n",
    "pd.options.plotting.backend = 'plotly'"
   ]
  },
  {
   "cell_type": "markdown",
   "metadata": {},
   "source": [
    "### Framing the Problem"
   ]
  },
  {
   "cell_type": "markdown",
   "metadata": {},
   "source": [
    "Prediction Problem Type: This problem type is regression, as we are trying to predict a continuous quantity, in this case how long an outage occurs.\n",
    "\n",
    "Response Variable: Our response variable will be, in minutes, how long an outage occurs for. This value can be seen in the dataset as 'OUTAGE.DURATION'\n",
    "\n",
    "Metric: We will use mean squared error (MSE) loss as our metric for evaluation. We decided on MSE due to its sensitivity to outliers and its ability to be easily understood as it maintains the same units as our response variable, 'OUTAGE.DURATION'."
   ]
  },
  {
   "cell_type": "code",
   "execution_count": 13,
   "metadata": {
    "ExecuteTime": {
     "end_time": "2019-10-31T23:36:28.657068Z",
     "start_time": "2019-10-31T23:36:28.654650Z"
    }
   },
   "outputs": [
    {
     "data": {
      "text/html": [
       "<div>\n",
       "<style scoped>\n",
       "    .dataframe tbody tr th:only-of-type {\n",
       "        vertical-align: middle;\n",
       "    }\n",
       "\n",
       "    .dataframe tbody tr th {\n",
       "        vertical-align: top;\n",
       "    }\n",
       "\n",
       "    .dataframe thead th {\n",
       "        text-align: right;\n",
       "    }\n",
       "</style>\n",
       "<table border=\"1\" class=\"dataframe\">\n",
       "  <thead>\n",
       "    <tr style=\"text-align: right;\">\n",
       "      <th></th>\n",
       "      <th>YEAR</th>\n",
       "      <th>MONTH</th>\n",
       "      <th>U.S._STATE</th>\n",
       "      <th>NERC.REGION</th>\n",
       "      <th>CLIMATE.REGION</th>\n",
       "      <th>ANOMALY.LEVEL</th>\n",
       "      <th>CLIMATE.CATEGORY</th>\n",
       "      <th>CAUSE.CATEGORY</th>\n",
       "      <th>CAUSE.CATEGORY.DETAIL</th>\n",
       "      <th>OUTAGE.DURATION</th>\n",
       "      <th>DEMAND.LOSS.MW</th>\n",
       "      <th>CUSTOMERS.AFFECTED</th>\n",
       "      <th>PI.UTIL.OFUSA</th>\n",
       "      <th>OUTAGE.START.TIME</th>\n",
       "      <th>OUTAGE.RESTORATION.TIME</th>\n",
       "      <th>POPULATION</th>\n",
       "      <th>OUTAGE.START.CATEGORY</th>\n",
       "      <th>OUTAGE.END.CATEGORY</th>\n",
       "    </tr>\n",
       "    <tr>\n",
       "      <th>OBS</th>\n",
       "      <th></th>\n",
       "      <th></th>\n",
       "      <th></th>\n",
       "      <th></th>\n",
       "      <th></th>\n",
       "      <th></th>\n",
       "      <th></th>\n",
       "      <th></th>\n",
       "      <th></th>\n",
       "      <th></th>\n",
       "      <th></th>\n",
       "      <th></th>\n",
       "      <th></th>\n",
       "      <th></th>\n",
       "      <th></th>\n",
       "      <th></th>\n",
       "      <th></th>\n",
       "      <th></th>\n",
       "    </tr>\n",
       "  </thead>\n",
       "  <tbody>\n",
       "    <tr>\n",
       "      <th>1.0</th>\n",
       "      <td>2011.0</td>\n",
       "      <td>7.0</td>\n",
       "      <td>Minnesota</td>\n",
       "      <td>MRO</td>\n",
       "      <td>East North Central</td>\n",
       "      <td>-0.3</td>\n",
       "      <td>normal</td>\n",
       "      <td>severe weather</td>\n",
       "      <td>NaN</td>\n",
       "      <td>3060</td>\n",
       "      <td>NaN</td>\n",
       "      <td>70000.0</td>\n",
       "      <td>2.2</td>\n",
       "      <td>17:00:00</td>\n",
       "      <td>20:00:00</td>\n",
       "      <td>5348119.0</td>\n",
       "      <td>Afternoon/Evening</td>\n",
       "      <td>Afternoon/Evening</td>\n",
       "    </tr>\n",
       "    <tr>\n",
       "      <th>3.0</th>\n",
       "      <td>2010.0</td>\n",
       "      <td>10.0</td>\n",
       "      <td>Minnesota</td>\n",
       "      <td>MRO</td>\n",
       "      <td>East North Central</td>\n",
       "      <td>-1.5</td>\n",
       "      <td>cold</td>\n",
       "      <td>severe weather</td>\n",
       "      <td>heavy wind</td>\n",
       "      <td>3000</td>\n",
       "      <td>NaN</td>\n",
       "      <td>70000.0</td>\n",
       "      <td>2.1</td>\n",
       "      <td>20:00:00</td>\n",
       "      <td>22:00:00</td>\n",
       "      <td>5310903.0</td>\n",
       "      <td>Afternoon/Evening</td>\n",
       "      <td>Afternoon/Evening</td>\n",
       "    </tr>\n",
       "    <tr>\n",
       "      <th>4.0</th>\n",
       "      <td>2012.0</td>\n",
       "      <td>6.0</td>\n",
       "      <td>Minnesota</td>\n",
       "      <td>MRO</td>\n",
       "      <td>East North Central</td>\n",
       "      <td>-0.1</td>\n",
       "      <td>normal</td>\n",
       "      <td>severe weather</td>\n",
       "      <td>thunderstorm</td>\n",
       "      <td>2550</td>\n",
       "      <td>NaN</td>\n",
       "      <td>68200.0</td>\n",
       "      <td>2.2</td>\n",
       "      <td>04:30:00</td>\n",
       "      <td>23:00:00</td>\n",
       "      <td>5380443.0</td>\n",
       "      <td>Afternoon/Evening</td>\n",
       "      <td>Afternoon/Evening</td>\n",
       "    </tr>\n",
       "    <tr>\n",
       "      <th>5.0</th>\n",
       "      <td>2015.0</td>\n",
       "      <td>7.0</td>\n",
       "      <td>Minnesota</td>\n",
       "      <td>MRO</td>\n",
       "      <td>East North Central</td>\n",
       "      <td>1.2</td>\n",
       "      <td>warm</td>\n",
       "      <td>severe weather</td>\n",
       "      <td>NaN</td>\n",
       "      <td>1740</td>\n",
       "      <td>250</td>\n",
       "      <td>250000.0</td>\n",
       "      <td>2.2</td>\n",
       "      <td>02:00:00</td>\n",
       "      <td>07:00:00</td>\n",
       "      <td>5489594.0</td>\n",
       "      <td>Afternoon/Evening</td>\n",
       "      <td>Afternoon/Evening</td>\n",
       "    </tr>\n",
       "    <tr>\n",
       "      <th>6.0</th>\n",
       "      <td>2010.0</td>\n",
       "      <td>11.0</td>\n",
       "      <td>Minnesota</td>\n",
       "      <td>MRO</td>\n",
       "      <td>East North Central</td>\n",
       "      <td>-1.4</td>\n",
       "      <td>cold</td>\n",
       "      <td>severe weather</td>\n",
       "      <td>winter storm</td>\n",
       "      <td>1860</td>\n",
       "      <td>NaN</td>\n",
       "      <td>60000.0</td>\n",
       "      <td>2.1</td>\n",
       "      <td>15:00:00</td>\n",
       "      <td>22:00:00</td>\n",
       "      <td>5310903.0</td>\n",
       "      <td>Afternoon/Evening</td>\n",
       "      <td>Afternoon/Evening</td>\n",
       "    </tr>\n",
       "    <tr>\n",
       "      <th>...</th>\n",
       "      <td>...</td>\n",
       "      <td>...</td>\n",
       "      <td>...</td>\n",
       "      <td>...</td>\n",
       "      <td>...</td>\n",
       "      <td>...</td>\n",
       "      <td>...</td>\n",
       "      <td>...</td>\n",
       "      <td>...</td>\n",
       "      <td>...</td>\n",
       "      <td>...</td>\n",
       "      <td>...</td>\n",
       "      <td>...</td>\n",
       "      <td>...</td>\n",
       "      <td>...</td>\n",
       "      <td>...</td>\n",
       "      <td>...</td>\n",
       "      <td>...</td>\n",
       "    </tr>\n",
       "    <tr>\n",
       "      <th>1523.0</th>\n",
       "      <td>2004.0</td>\n",
       "      <td>6.0</td>\n",
       "      <td>Idaho</td>\n",
       "      <td>WECC</td>\n",
       "      <td>Northwest</td>\n",
       "      <td>0.3</td>\n",
       "      <td>normal</td>\n",
       "      <td>system operability disruption</td>\n",
       "      <td>NaN</td>\n",
       "      <td>95</td>\n",
       "      <td>157</td>\n",
       "      <td>35000.0</td>\n",
       "      <td>0.3</td>\n",
       "      <td>17:35:00</td>\n",
       "      <td>19:10:00</td>\n",
       "      <td>1391802.0</td>\n",
       "      <td>Afternoon/Evening</td>\n",
       "      <td>Afternoon/Evening</td>\n",
       "    </tr>\n",
       "    <tr>\n",
       "      <th>1524.0</th>\n",
       "      <td>2011.0</td>\n",
       "      <td>1.0</td>\n",
       "      <td>Idaho</td>\n",
       "      <td>WECC</td>\n",
       "      <td>Northwest</td>\n",
       "      <td>-1.3</td>\n",
       "      <td>cold</td>\n",
       "      <td>intentional attack</td>\n",
       "      <td>vandalism</td>\n",
       "      <td>360</td>\n",
       "      <td>0</td>\n",
       "      <td>0.0</td>\n",
       "      <td>0.4</td>\n",
       "      <td>07:00:00</td>\n",
       "      <td>13:00:00</td>\n",
       "      <td>1584134.0</td>\n",
       "      <td>Afternoon/Evening</td>\n",
       "      <td>Afternoon/Evening</td>\n",
       "    </tr>\n",
       "    <tr>\n",
       "      <th>1525.0</th>\n",
       "      <td>2003.0</td>\n",
       "      <td>6.0</td>\n",
       "      <td>Idaho</td>\n",
       "      <td>WECC</td>\n",
       "      <td>Northwest</td>\n",
       "      <td>-0.1</td>\n",
       "      <td>normal</td>\n",
       "      <td>public appeal</td>\n",
       "      <td>NaN</td>\n",
       "      <td>1548</td>\n",
       "      <td>0</td>\n",
       "      <td>0.0</td>\n",
       "      <td>0.3</td>\n",
       "      <td>15:12:00</td>\n",
       "      <td>17:00:00</td>\n",
       "      <td>1363380.0</td>\n",
       "      <td>Afternoon/Evening</td>\n",
       "      <td>Afternoon/Evening</td>\n",
       "    </tr>\n",
       "    <tr>\n",
       "      <th>1527.0</th>\n",
       "      <td>2016.0</td>\n",
       "      <td>3.0</td>\n",
       "      <td>Idaho</td>\n",
       "      <td>WECC</td>\n",
       "      <td>Northwest</td>\n",
       "      <td>1.6</td>\n",
       "      <td>warm</td>\n",
       "      <td>intentional attack</td>\n",
       "      <td>sabotage</td>\n",
       "      <td>0</td>\n",
       "      <td>0</td>\n",
       "      <td>0.0</td>\n",
       "      <td>0.4</td>\n",
       "      <td>00:00:00</td>\n",
       "      <td>00:00:00</td>\n",
       "      <td>1680026.0</td>\n",
       "      <td>Afternoon/Evening</td>\n",
       "      <td>Afternoon/Evening</td>\n",
       "    </tr>\n",
       "    <tr>\n",
       "      <th>1530.0</th>\n",
       "      <td>2011.0</td>\n",
       "      <td>12.0</td>\n",
       "      <td>North Dakota</td>\n",
       "      <td>MRO</td>\n",
       "      <td>West North Central</td>\n",
       "      <td>-0.9</td>\n",
       "      <td>cold</td>\n",
       "      <td>public appeal</td>\n",
       "      <td>NaN</td>\n",
       "      <td>720</td>\n",
       "      <td>155</td>\n",
       "      <td>34500.0</td>\n",
       "      <td>0.5</td>\n",
       "      <td>08:00:00</td>\n",
       "      <td>20:00:00</td>\n",
       "      <td>685326.0</td>\n",
       "      <td>Afternoon/Evening</td>\n",
       "      <td>Afternoon/Evening</td>\n",
       "    </tr>\n",
       "  </tbody>\n",
       "</table>\n",
       "<p>1056 rows × 18 columns</p>\n",
       "</div>"
      ],
      "text/plain": [
       "          YEAR  MONTH    U.S._STATE NERC.REGION      CLIMATE.REGION  \\\n",
       "OBS                                                                   \n",
       "1.0     2011.0    7.0     Minnesota         MRO  East North Central   \n",
       "3.0     2010.0   10.0     Minnesota         MRO  East North Central   \n",
       "4.0     2012.0    6.0     Minnesota         MRO  East North Central   \n",
       "5.0     2015.0    7.0     Minnesota         MRO  East North Central   \n",
       "6.0     2010.0   11.0     Minnesota         MRO  East North Central   \n",
       "...        ...    ...           ...         ...                 ...   \n",
       "1523.0  2004.0    6.0         Idaho        WECC           Northwest   \n",
       "1524.0  2011.0    1.0         Idaho        WECC           Northwest   \n",
       "1525.0  2003.0    6.0         Idaho        WECC           Northwest   \n",
       "1527.0  2016.0    3.0         Idaho        WECC           Northwest   \n",
       "1530.0  2011.0   12.0  North Dakota         MRO  West North Central   \n",
       "\n",
       "       ANOMALY.LEVEL CLIMATE.CATEGORY                 CAUSE.CATEGORY  \\\n",
       "OBS                                                                    \n",
       "1.0             -0.3           normal                 severe weather   \n",
       "3.0             -1.5             cold                 severe weather   \n",
       "4.0             -0.1           normal                 severe weather   \n",
       "5.0              1.2             warm                 severe weather   \n",
       "6.0             -1.4             cold                 severe weather   \n",
       "...              ...              ...                            ...   \n",
       "1523.0           0.3           normal  system operability disruption   \n",
       "1524.0          -1.3             cold             intentional attack   \n",
       "1525.0          -0.1           normal                  public appeal   \n",
       "1527.0           1.6             warm             intentional attack   \n",
       "1530.0          -0.9             cold                  public appeal   \n",
       "\n",
       "       CAUSE.CATEGORY.DETAIL OUTAGE.DURATION DEMAND.LOSS.MW  \\\n",
       "OBS                                                           \n",
       "1.0                      NaN            3060            NaN   \n",
       "3.0               heavy wind            3000            NaN   \n",
       "4.0             thunderstorm            2550            NaN   \n",
       "5.0                      NaN            1740            250   \n",
       "6.0             winter storm            1860            NaN   \n",
       "...                      ...             ...            ...   \n",
       "1523.0                   NaN              95            157   \n",
       "1524.0             vandalism             360              0   \n",
       "1525.0                   NaN            1548              0   \n",
       "1527.0              sabotage               0              0   \n",
       "1530.0                   NaN             720            155   \n",
       "\n",
       "        CUSTOMERS.AFFECTED PI.UTIL.OFUSA OUTAGE.START.TIME  \\\n",
       "OBS                                                          \n",
       "1.0                70000.0           2.2          17:00:00   \n",
       "3.0                70000.0           2.1          20:00:00   \n",
       "4.0                68200.0           2.2          04:30:00   \n",
       "5.0               250000.0           2.2          02:00:00   \n",
       "6.0                60000.0           2.1          15:00:00   \n",
       "...                    ...           ...               ...   \n",
       "1523.0             35000.0           0.3          17:35:00   \n",
       "1524.0                 0.0           0.4          07:00:00   \n",
       "1525.0                 0.0           0.3          15:12:00   \n",
       "1527.0                 0.0           0.4          00:00:00   \n",
       "1530.0             34500.0           0.5          08:00:00   \n",
       "\n",
       "       OUTAGE.RESTORATION.TIME  POPULATION OUTAGE.START.CATEGORY  \\\n",
       "OBS                                                                \n",
       "1.0                   20:00:00   5348119.0     Afternoon/Evening   \n",
       "3.0                   22:00:00   5310903.0     Afternoon/Evening   \n",
       "4.0                   23:00:00   5380443.0     Afternoon/Evening   \n",
       "5.0                   07:00:00   5489594.0     Afternoon/Evening   \n",
       "6.0                   22:00:00   5310903.0     Afternoon/Evening   \n",
       "...                        ...         ...                   ...   \n",
       "1523.0                19:10:00   1391802.0     Afternoon/Evening   \n",
       "1524.0                13:00:00   1584134.0     Afternoon/Evening   \n",
       "1525.0                17:00:00   1363380.0     Afternoon/Evening   \n",
       "1527.0                00:00:00   1680026.0     Afternoon/Evening   \n",
       "1530.0                20:00:00    685326.0     Afternoon/Evening   \n",
       "\n",
       "       OUTAGE.END.CATEGORY  \n",
       "OBS                         \n",
       "1.0      Afternoon/Evening  \n",
       "3.0      Afternoon/Evening  \n",
       "4.0      Afternoon/Evening  \n",
       "5.0      Afternoon/Evening  \n",
       "6.0      Afternoon/Evening  \n",
       "...                    ...  \n",
       "1523.0   Afternoon/Evening  \n",
       "1524.0   Afternoon/Evening  \n",
       "1525.0   Afternoon/Evening  \n",
       "1527.0   Afternoon/Evening  \n",
       "1530.0   Afternoon/Evening  \n",
       "\n",
       "[1056 rows x 18 columns]"
      ]
     },
     "execution_count": 13,
     "metadata": {},
     "output_type": "execute_result"
    }
   ],
   "source": [
    "##################################################\n",
    "#     DATA CLEANING CODE FROM PROJECT 3          #\n",
    "##################################################\n",
    "df = pd.read_excel('outage.xlsx', skiprows = 5)\n",
    "\n",
    "df = df.set_index('OBS')\n",
    "df = df.iloc[1: , :]\n",
    "df = df[df.columns[1:]]\n",
    "\n",
    "df['OUTAGE.START.DATE'] = pd.to_datetime(df['OUTAGE.START.DATE'])\n",
    "df['OUTAGE.START.DATE'] = df['OUTAGE.START.DATE'].dt.date\n",
    "\n",
    "df['OUTAGE.RESTORATION.DATE'] = pd.to_datetime(df['OUTAGE.RESTORATION.DATE'])\n",
    "df['OUTAGE.RESTORATION.DATE'] = df['OUTAGE.RESTORATION.DATE'].dt.date\n",
    "df['CUSTOMERS.AFFECTED_MISSING'] = df['CUSTOMERS.AFFECTED'].isna().astype(int)\n",
    "\n",
    "\n",
    "df = df[[\"YEAR\", \"MONTH\", 'U.S._STATE', 'NERC.REGION', 'CLIMATE.REGION', 'ANOMALY.LEVEL', 'CLIMATE.CATEGORY',\n",
    "         'CAUSE.CATEGORY', 'CAUSE.CATEGORY.DETAIL', 'OUTAGE.DURATION', 'DEMAND.LOSS.MW', 'CUSTOMERS.AFFECTED', 'PI.UTIL.OFUSA',\n",
    "         'OUTAGE.START.TIME', 'OUTAGE.RESTORATION.TIME', 'POPULATION']]\n",
    "df = df.dropna(subset=['ANOMALY.LEVEL', 'CLIMATE.CATEGORY', 'OUTAGE.DURATION', 'OUTAGE.START.TIME', 'OUTAGE.RESTORATION.TIME', 'CUSTOMERS.AFFECTED'])\n",
    "\n",
    "\n",
    "def categorize_time(time_str):\n",
    "    if pd.isna(time_str):\n",
    "        return 'Unknown'  \n",
    "    time = pd.to_datetime(time_str, format='%I:%M:%S %p', errors='coerce')\n",
    "    if time.hour < 12:\n",
    "        return 'Morning'\n",
    "    else:\n",
    "        return 'Afternoon/Evening'\n",
    "\n",
    "# Apply the function to create new columns\n",
    "df['OUTAGE.START.CATEGORY'] = df['OUTAGE.START.TIME'].apply(categorize_time)\n",
    "df['OUTAGE.END.CATEGORY'] = df['OUTAGE.RESTORATION.TIME'].apply(categorize_time)\n",
    "\n",
    "\n",
    "pd.set_option('display.max_columns', None)\n",
    "df"
   ]
  },
  {
   "cell_type": "markdown",
   "metadata": {},
   "source": [
    "### Baseline Model"
   ]
  },
  {
   "cell_type": "code",
   "execution_count": 5,
   "metadata": {
    "ExecuteTime": {
     "end_time": "2019-10-31T23:36:28.662099Z",
     "start_time": "2019-10-31T23:36:28.660016Z"
    }
   },
   "outputs": [
    {
     "name": "stdout",
     "output_type": "stream",
     "text": [
      "Mean Squared Error: 9402680.912145877\n"
     ]
    }
   ],
   "source": [
    "X = df[['ANOMALY.LEVEL','CAUSE.CATEGORY']]\n",
    "y = df['OUTAGE.DURATION']\n",
    "\n",
    "# Split the data\n",
    "X_train, X_test, y_train, y_test = train_test_split(X, y, test_size=0.2)\n",
    "\n",
    "# Preprocessing for numerical data: no transformation needed\n",
    "# Preprocessing for categorical data: OneHotEncoder\n",
    "preprocessor = ColumnTransformer(\n",
    "    transformers=[\n",
    "        ('cat', OneHotEncoder(), ['CAUSE.CATEGORY']),\n",
    "        ('standard', StandardScaler(), ['ANOMALY.LEVEL'])\n",
    "    ])\n",
    "\n",
    "# Create a pipeline\n",
    "model = Pipeline(steps=[('preprocessor', preprocessor),\n",
    "                        ('regressor', LinearRegression())])\n",
    "\n",
    "# Train the model\n",
    "model.fit(X_train, y_train)\n",
    "\n",
    "# Predict and evaluate\n",
    "y_pred = model.predict(X_test)\n",
    "mse = mean_squared_error(y_test, y_pred)\n",
    "print(f'Mean Squared Error: {mse}')"
   ]
  },
  {
   "cell_type": "code",
   "execution_count": 6,
   "metadata": {},
   "outputs": [
    {
     "data": {
      "application/vnd.plotly.v1+json": {
       "config": {
        "plotlyServerURL": "https://plot.ly"
       },
       "data": [
        {
         "mode": "markers",
         "name": "Actual Values",
         "type": "scatter",
         "x": [
          0,
          1,
          2,
          3,
          4,
          5,
          6,
          7,
          8,
          9,
          10,
          11,
          12,
          13,
          14,
          15,
          16,
          17,
          18,
          19,
          20,
          21,
          22,
          23,
          24,
          25,
          26,
          27,
          28,
          29,
          30,
          31,
          32,
          33,
          34,
          35,
          36,
          37,
          38,
          39,
          40,
          41,
          42,
          43,
          44,
          45,
          46,
          47,
          48,
          49,
          50,
          51,
          52,
          53,
          54,
          55,
          56,
          57,
          58,
          59,
          60,
          61,
          62,
          63,
          64,
          65,
          66,
          67,
          68,
          69,
          70,
          71,
          72,
          73,
          74,
          75,
          76,
          77,
          78,
          79,
          80,
          81,
          82,
          83,
          84,
          85,
          86,
          87,
          88,
          89,
          90,
          91,
          92,
          93,
          94,
          95,
          96,
          97,
          98,
          99,
          100,
          101,
          102,
          103,
          104,
          105,
          106,
          107,
          108,
          109,
          110,
          111,
          112,
          113,
          114,
          115,
          116,
          117,
          118,
          119,
          120,
          121,
          122,
          123,
          124,
          125,
          126,
          127,
          128,
          129,
          130,
          131,
          132,
          133,
          134,
          135,
          136,
          137,
          138,
          139,
          140,
          141,
          142,
          143,
          144,
          145,
          146,
          147,
          148,
          149,
          150,
          151,
          152,
          153,
          154,
          155,
          156,
          157,
          158,
          159,
          160,
          161,
          162,
          163,
          164,
          165,
          166,
          167,
          168,
          169,
          170,
          171,
          172,
          173,
          174,
          175,
          176,
          177,
          178,
          179,
          180,
          181,
          182,
          183,
          184,
          185,
          186,
          187,
          188,
          189,
          190,
          191,
          192,
          193,
          194,
          195,
          196,
          197,
          198,
          199,
          200,
          201,
          202,
          203,
          204,
          205,
          206,
          207,
          208,
          209,
          210,
          211
         ],
         "y": [
          950,
          3000,
          251,
          3300,
          5910,
          204,
          624,
          6840,
          1456,
          1,
          2880,
          1204,
          960,
          8922,
          3720,
          334,
          198,
          2700,
          1372,
          4140,
          180,
          3630,
          1200,
          9886,
          64,
          816,
          70,
          7319,
          1920,
          1054,
          227,
          2299,
          3630,
          5579,
          0,
          2855,
          557,
          0,
          9360,
          480,
          56,
          2790,
          1920,
          1044,
          5034,
          3060,
          985,
          4254,
          17339,
          0,
          161,
          4745,
          1,
          554,
          1698,
          300,
          4320,
          0,
          2010,
          5250,
          5227,
          2640,
          181,
          189,
          1072,
          1955,
          1642,
          4140,
          3698,
          4800,
          268,
          210,
          120,
          9230,
          2415,
          4338,
          5855,
          0,
          1548,
          3305,
          115,
          2159,
          52,
          1099,
          1452,
          3120,
          2970,
          1019,
          900,
          76,
          3300,
          11058,
          3569,
          6090,
          7080,
          2490,
          14,
          2245,
          1770,
          360,
          90,
          5580,
          5790,
          1906,
          0,
          245,
          6685,
          4320,
          28,
          1000,
          1301,
          360,
          816,
          7523,
          3894,
          757,
          1588,
          103,
          1860,
          2880,
          12180,
          70,
          847,
          270,
          2880,
          418,
          797,
          1035,
          30,
          1050,
          1200,
          4242,
          7,
          6480,
          523,
          11296,
          11640,
          210,
          60,
          27698,
          3570,
          1440,
          1,
          374,
          2941,
          3060,
          2790,
          84,
          227,
          4740,
          2220,
          0,
          129,
          810,
          144,
          9150,
          1046,
          52,
          63,
          4232,
          394,
          4560,
          3540,
          1420,
          11880,
          4510,
          201,
          5700,
          697,
          1,
          35,
          685,
          299,
          2016,
          4259,
          1995,
          1680,
          0,
          215,
          0,
          1,
          149,
          3667,
          810,
          9480,
          120,
          125,
          155,
          157,
          0,
          230,
          285,
          1,
          960,
          0,
          480,
          5310,
          803,
          2670,
          1560,
          4260,
          7609,
          95,
          39,
          1673,
          2425,
          360,
          270,
          241,
          2520,
          390,
          0
         ]
        },
        {
         "mode": "markers",
         "name": "Predicted Values",
         "type": "scatter",
         "x": [
          0,
          1,
          2,
          3,
          4,
          5,
          6,
          7,
          8,
          9,
          10,
          11,
          12,
          13,
          14,
          15,
          16,
          17,
          18,
          19,
          20,
          21,
          22,
          23,
          24,
          25,
          26,
          27,
          28,
          29,
          30,
          31,
          32,
          33,
          34,
          35,
          36,
          37,
          38,
          39,
          40,
          41,
          42,
          43,
          44,
          45,
          46,
          47,
          48,
          49,
          50,
          51,
          52,
          53,
          54,
          55,
          56,
          57,
          58,
          59,
          60,
          61,
          62,
          63,
          64,
          65,
          66,
          67,
          68,
          69,
          70,
          71,
          72,
          73,
          74,
          75,
          76,
          77,
          78,
          79,
          80,
          81,
          82,
          83,
          84,
          85,
          86,
          87,
          88,
          89,
          90,
          91,
          92,
          93,
          94,
          95,
          96,
          97,
          98,
          99,
          100,
          101,
          102,
          103,
          104,
          105,
          106,
          107,
          108,
          109,
          110,
          111,
          112,
          113,
          114,
          115,
          116,
          117,
          118,
          119,
          120,
          121,
          122,
          123,
          124,
          125,
          126,
          127,
          128,
          129,
          130,
          131,
          132,
          133,
          134,
          135,
          136,
          137,
          138,
          139,
          140,
          141,
          142,
          143,
          144,
          145,
          146,
          147,
          148,
          149,
          150,
          151,
          152,
          153,
          154,
          155,
          156,
          157,
          158,
          159,
          160,
          161,
          162,
          163,
          164,
          165,
          166,
          167,
          168,
          169,
          170,
          171,
          172,
          173,
          174,
          175,
          176,
          177,
          178,
          179,
          180,
          181,
          182,
          183,
          184,
          185,
          186,
          187,
          188,
          189,
          190,
          191,
          192,
          193,
          194,
          195,
          196,
          197,
          198,
          199,
          200,
          201,
          202,
          203,
          204,
          205,
          206,
          207,
          208,
          209,
          210,
          211
         ],
         "y": [
          4047.255074968495,
          3961.7506796887515,
          -53.53153906739726,
          4538.905347827022,
          4132.759470248239,
          788.4224700238788,
          4175.511667888111,
          4218.2638655279825,
          3918.99848204888,
          306.81939526174756,
          3983.1267785086875,
          490.0788966871978,
          4090.007272608367,
          3961.7506796887515,
          3940.3745808688154,
          809.7985688438148,
          3918.99848204888,
          3983.1267785086875,
          4090.007272608367,
          4175.511667888111,
          4068.631173788431,
          3940.3745808688154,
          4132.759470248239,
          4325.144359627662,
          639.7115884267496,
          724.2941735640711,
          425.02879008496757,
          3918.99848204888,
          3918.99848204888,
          3983.1267785086875,
          798.469668120274,
          3940.3745808688154,
          4025.8789761485596,
          3961.7506796887515,
          285.4432964418115,
          4154.135569068175,
          264.0671976218755,
          157.18670352219578,
          4132.759470248239,
          2313.8893863827884,
          852.5507664836864,
          4068.631173788431,
          4047.255074968495,
          4154.135569068175,
          4004.5028773286235,
          4004.5028773286235,
          3983.1267785086875,
          4282.392161987791,
          4132.759470248239,
          4004.5028773286235,
          734.3413716604664,
          3983.1267785086875,
          862.5979645800817,
          596.0375806444554,
          4025.8789761485596,
          3961.7506796887515,
          4004.5028773286235,
          4004.5028773286235,
          3961.7506796887515,
          4175.511667888111,
          3769.365790309328,
          3983.1267785086875,
          4090.007272608367,
          617.4136794643914,
          4090.007272608367,
          4367.896557267534,
          798.469668120274,
          3983.1267785086875,
          328.1954940816836,
          4175.511667888111,
          -53.53153906739726,
          4196.887766708047,
          3961.7506796887515,
          4111.383371428303,
          4004.5028773286235,
          4090.007272608367,
          4261.016063167855,
          306.81939526174756,
          2356.64158402266,
          4261.016063167855,
          4090.007272608367,
          510.5331853647117,
          382.27659244509596,
          4196.887766708047,
          4004.5028773286235,
          2442.145979302404,
          3876.246284409008,
          3769.365790309328,
          4025.8789761485596,
          4538.905347827022,
          4090.007272608367,
          4047.255074968495,
          3961.7506796887515,
          3961.7506796887515,
          4325.144359627662,
          3961.7506796887515,
          309.86214087151393,
          4004.5028773286235,
          93.05840706238814,
          3983.1267785086875,
          862.5979645800817,
          3983.1267785086875,
          4154.135569068175,
          4218.2638655279825,
          221.31499998200388,
          617.4136794643914,
          4132.759470248239,
          3983.1267785086875,
          328.1954940816836,
          4068.631173788431,
          4047.255074968495,
          93.05840706238814,
          3940.3745808688154,
          4090.007272608367,
          4090.007272608367,
          617.4136794643914,
          4175.511667888111,
          574.6614818245193,
          4004.5028773286235,
          3940.3745808688154,
          4068.631173788431,
          306.81939526174756,
          4004.5028773286235,
          3961.7506796887515,
          3940.3745808688154,
          575.5832919669419,
          459.49483261106525,
          96.10115267215451,
          157.18670352219578,
          4261.016063167855,
          4090.007272608367,
          4004.5028773286235,
          404.57450140745414,
          4175.511667888111,
          3769.365790309328,
          4090.007272608367,
          4218.2638655279825,
          4132.759470248239,
          798.469668120274,
          4004.5028773286235,
          3918.99848204888,
          4068.631173788431,
          199.93890116206785,
          4196.887766708047,
          4090.007272608367,
          4068.631173788431,
          4218.2638655279825,
          511.45499550713384,
          468.70279786726223,
          3918.99848204888,
          3918.99848204888,
          93.05840706238814,
          617.4136794643914,
          4132.759470248239,
          -53.53153906739726,
          4218.2638655279825,
          178.56280234213182,
          617.4136794643914,
          916.6790629434945,
          3790.741889129264,
          2313.8893863827884,
          4111.383371428303,
          4047.255074968495,
          4261.016063167855,
          4025.8789761485596,
          3961.7506796887515,
          435.0759881813633,
          4132.759470248239,
          285.4432964418115,
          392.32379054149123,
          532.8310943270699,
          3769.365790309328,
          4004.5028773286235,
          3876.246284409008,
          4154.135569068175,
          4367.896557267534,
          4218.2638655279825,
          93.05840706238814,
          4175.511667888111,
          157.18670352219578,
          862.5979645800817,
          554.2071931470059,
          3918.99848204888,
          4111.383371428303,
          4261.016063167855,
          841.2218657601461,
          4261.016063167855,
          499.20428464117094,
          502.2470302509373,
          178.56280234213182,
          831.1746676637508,
          4025.8789761485596,
          392.32379054149123,
          4090.007272608367,
          199.93890116206785,
          3747.989691489392,
          4025.8789761485596,
          4325.144359627662,
          3983.1267785086875,
          4175.511667888111,
          3876.246284409008,
          3940.3745808688154,
          724.2941735640711,
          435.0759881813633,
          4132.759470248239,
          3940.3745808688154,
          627.4608775607867,
          4111.383371428303,
          638.789778284327,
          3940.3745808688154,
          4261.016063167855,
          199.93890116206785
         ]
        }
       ],
       "layout": {
        "template": {
         "data": {
          "bar": [
           {
            "error_x": {
             "color": "#2a3f5f"
            },
            "error_y": {
             "color": "#2a3f5f"
            },
            "marker": {
             "line": {
              "color": "#E5ECF6",
              "width": 0.5
             },
             "pattern": {
              "fillmode": "overlay",
              "size": 10,
              "solidity": 0.2
             }
            },
            "type": "bar"
           }
          ],
          "barpolar": [
           {
            "marker": {
             "line": {
              "color": "#E5ECF6",
              "width": 0.5
             },
             "pattern": {
              "fillmode": "overlay",
              "size": 10,
              "solidity": 0.2
             }
            },
            "type": "barpolar"
           }
          ],
          "carpet": [
           {
            "aaxis": {
             "endlinecolor": "#2a3f5f",
             "gridcolor": "white",
             "linecolor": "white",
             "minorgridcolor": "white",
             "startlinecolor": "#2a3f5f"
            },
            "baxis": {
             "endlinecolor": "#2a3f5f",
             "gridcolor": "white",
             "linecolor": "white",
             "minorgridcolor": "white",
             "startlinecolor": "#2a3f5f"
            },
            "type": "carpet"
           }
          ],
          "choropleth": [
           {
            "colorbar": {
             "outlinewidth": 0,
             "ticks": ""
            },
            "type": "choropleth"
           }
          ],
          "contour": [
           {
            "colorbar": {
             "outlinewidth": 0,
             "ticks": ""
            },
            "colorscale": [
             [
              0,
              "#0d0887"
             ],
             [
              0.1111111111111111,
              "#46039f"
             ],
             [
              0.2222222222222222,
              "#7201a8"
             ],
             [
              0.3333333333333333,
              "#9c179e"
             ],
             [
              0.4444444444444444,
              "#bd3786"
             ],
             [
              0.5555555555555556,
              "#d8576b"
             ],
             [
              0.6666666666666666,
              "#ed7953"
             ],
             [
              0.7777777777777778,
              "#fb9f3a"
             ],
             [
              0.8888888888888888,
              "#fdca26"
             ],
             [
              1,
              "#f0f921"
             ]
            ],
            "type": "contour"
           }
          ],
          "contourcarpet": [
           {
            "colorbar": {
             "outlinewidth": 0,
             "ticks": ""
            },
            "type": "contourcarpet"
           }
          ],
          "heatmap": [
           {
            "colorbar": {
             "outlinewidth": 0,
             "ticks": ""
            },
            "colorscale": [
             [
              0,
              "#0d0887"
             ],
             [
              0.1111111111111111,
              "#46039f"
             ],
             [
              0.2222222222222222,
              "#7201a8"
             ],
             [
              0.3333333333333333,
              "#9c179e"
             ],
             [
              0.4444444444444444,
              "#bd3786"
             ],
             [
              0.5555555555555556,
              "#d8576b"
             ],
             [
              0.6666666666666666,
              "#ed7953"
             ],
             [
              0.7777777777777778,
              "#fb9f3a"
             ],
             [
              0.8888888888888888,
              "#fdca26"
             ],
             [
              1,
              "#f0f921"
             ]
            ],
            "type": "heatmap"
           }
          ],
          "heatmapgl": [
           {
            "colorbar": {
             "outlinewidth": 0,
             "ticks": ""
            },
            "colorscale": [
             [
              0,
              "#0d0887"
             ],
             [
              0.1111111111111111,
              "#46039f"
             ],
             [
              0.2222222222222222,
              "#7201a8"
             ],
             [
              0.3333333333333333,
              "#9c179e"
             ],
             [
              0.4444444444444444,
              "#bd3786"
             ],
             [
              0.5555555555555556,
              "#d8576b"
             ],
             [
              0.6666666666666666,
              "#ed7953"
             ],
             [
              0.7777777777777778,
              "#fb9f3a"
             ],
             [
              0.8888888888888888,
              "#fdca26"
             ],
             [
              1,
              "#f0f921"
             ]
            ],
            "type": "heatmapgl"
           }
          ],
          "histogram": [
           {
            "marker": {
             "pattern": {
              "fillmode": "overlay",
              "size": 10,
              "solidity": 0.2
             }
            },
            "type": "histogram"
           }
          ],
          "histogram2d": [
           {
            "colorbar": {
             "outlinewidth": 0,
             "ticks": ""
            },
            "colorscale": [
             [
              0,
              "#0d0887"
             ],
             [
              0.1111111111111111,
              "#46039f"
             ],
             [
              0.2222222222222222,
              "#7201a8"
             ],
             [
              0.3333333333333333,
              "#9c179e"
             ],
             [
              0.4444444444444444,
              "#bd3786"
             ],
             [
              0.5555555555555556,
              "#d8576b"
             ],
             [
              0.6666666666666666,
              "#ed7953"
             ],
             [
              0.7777777777777778,
              "#fb9f3a"
             ],
             [
              0.8888888888888888,
              "#fdca26"
             ],
             [
              1,
              "#f0f921"
             ]
            ],
            "type": "histogram2d"
           }
          ],
          "histogram2dcontour": [
           {
            "colorbar": {
             "outlinewidth": 0,
             "ticks": ""
            },
            "colorscale": [
             [
              0,
              "#0d0887"
             ],
             [
              0.1111111111111111,
              "#46039f"
             ],
             [
              0.2222222222222222,
              "#7201a8"
             ],
             [
              0.3333333333333333,
              "#9c179e"
             ],
             [
              0.4444444444444444,
              "#bd3786"
             ],
             [
              0.5555555555555556,
              "#d8576b"
             ],
             [
              0.6666666666666666,
              "#ed7953"
             ],
             [
              0.7777777777777778,
              "#fb9f3a"
             ],
             [
              0.8888888888888888,
              "#fdca26"
             ],
             [
              1,
              "#f0f921"
             ]
            ],
            "type": "histogram2dcontour"
           }
          ],
          "mesh3d": [
           {
            "colorbar": {
             "outlinewidth": 0,
             "ticks": ""
            },
            "type": "mesh3d"
           }
          ],
          "parcoords": [
           {
            "line": {
             "colorbar": {
              "outlinewidth": 0,
              "ticks": ""
             }
            },
            "type": "parcoords"
           }
          ],
          "pie": [
           {
            "automargin": true,
            "type": "pie"
           }
          ],
          "scatter": [
           {
            "fillpattern": {
             "fillmode": "overlay",
             "size": 10,
             "solidity": 0.2
            },
            "type": "scatter"
           }
          ],
          "scatter3d": [
           {
            "line": {
             "colorbar": {
              "outlinewidth": 0,
              "ticks": ""
             }
            },
            "marker": {
             "colorbar": {
              "outlinewidth": 0,
              "ticks": ""
             }
            },
            "type": "scatter3d"
           }
          ],
          "scattercarpet": [
           {
            "marker": {
             "colorbar": {
              "outlinewidth": 0,
              "ticks": ""
             }
            },
            "type": "scattercarpet"
           }
          ],
          "scattergeo": [
           {
            "marker": {
             "colorbar": {
              "outlinewidth": 0,
              "ticks": ""
             }
            },
            "type": "scattergeo"
           }
          ],
          "scattergl": [
           {
            "marker": {
             "colorbar": {
              "outlinewidth": 0,
              "ticks": ""
             }
            },
            "type": "scattergl"
           }
          ],
          "scattermapbox": [
           {
            "marker": {
             "colorbar": {
              "outlinewidth": 0,
              "ticks": ""
             }
            },
            "type": "scattermapbox"
           }
          ],
          "scatterpolar": [
           {
            "marker": {
             "colorbar": {
              "outlinewidth": 0,
              "ticks": ""
             }
            },
            "type": "scatterpolar"
           }
          ],
          "scatterpolargl": [
           {
            "marker": {
             "colorbar": {
              "outlinewidth": 0,
              "ticks": ""
             }
            },
            "type": "scatterpolargl"
           }
          ],
          "scatterternary": [
           {
            "marker": {
             "colorbar": {
              "outlinewidth": 0,
              "ticks": ""
             }
            },
            "type": "scatterternary"
           }
          ],
          "surface": [
           {
            "colorbar": {
             "outlinewidth": 0,
             "ticks": ""
            },
            "colorscale": [
             [
              0,
              "#0d0887"
             ],
             [
              0.1111111111111111,
              "#46039f"
             ],
             [
              0.2222222222222222,
              "#7201a8"
             ],
             [
              0.3333333333333333,
              "#9c179e"
             ],
             [
              0.4444444444444444,
              "#bd3786"
             ],
             [
              0.5555555555555556,
              "#d8576b"
             ],
             [
              0.6666666666666666,
              "#ed7953"
             ],
             [
              0.7777777777777778,
              "#fb9f3a"
             ],
             [
              0.8888888888888888,
              "#fdca26"
             ],
             [
              1,
              "#f0f921"
             ]
            ],
            "type": "surface"
           }
          ],
          "table": [
           {
            "cells": {
             "fill": {
              "color": "#EBF0F8"
             },
             "line": {
              "color": "white"
             }
            },
            "header": {
             "fill": {
              "color": "#C8D4E3"
             },
             "line": {
              "color": "white"
             }
            },
            "type": "table"
           }
          ]
         },
         "layout": {
          "annotationdefaults": {
           "arrowcolor": "#2a3f5f",
           "arrowhead": 0,
           "arrowwidth": 1
          },
          "autotypenumbers": "strict",
          "coloraxis": {
           "colorbar": {
            "outlinewidth": 0,
            "ticks": ""
           }
          },
          "colorscale": {
           "diverging": [
            [
             0,
             "#8e0152"
            ],
            [
             0.1,
             "#c51b7d"
            ],
            [
             0.2,
             "#de77ae"
            ],
            [
             0.3,
             "#f1b6da"
            ],
            [
             0.4,
             "#fde0ef"
            ],
            [
             0.5,
             "#f7f7f7"
            ],
            [
             0.6,
             "#e6f5d0"
            ],
            [
             0.7,
             "#b8e186"
            ],
            [
             0.8,
             "#7fbc41"
            ],
            [
             0.9,
             "#4d9221"
            ],
            [
             1,
             "#276419"
            ]
           ],
           "sequential": [
            [
             0,
             "#0d0887"
            ],
            [
             0.1111111111111111,
             "#46039f"
            ],
            [
             0.2222222222222222,
             "#7201a8"
            ],
            [
             0.3333333333333333,
             "#9c179e"
            ],
            [
             0.4444444444444444,
             "#bd3786"
            ],
            [
             0.5555555555555556,
             "#d8576b"
            ],
            [
             0.6666666666666666,
             "#ed7953"
            ],
            [
             0.7777777777777778,
             "#fb9f3a"
            ],
            [
             0.8888888888888888,
             "#fdca26"
            ],
            [
             1,
             "#f0f921"
            ]
           ],
           "sequentialminus": [
            [
             0,
             "#0d0887"
            ],
            [
             0.1111111111111111,
             "#46039f"
            ],
            [
             0.2222222222222222,
             "#7201a8"
            ],
            [
             0.3333333333333333,
             "#9c179e"
            ],
            [
             0.4444444444444444,
             "#bd3786"
            ],
            [
             0.5555555555555556,
             "#d8576b"
            ],
            [
             0.6666666666666666,
             "#ed7953"
            ],
            [
             0.7777777777777778,
             "#fb9f3a"
            ],
            [
             0.8888888888888888,
             "#fdca26"
            ],
            [
             1,
             "#f0f921"
            ]
           ]
          },
          "colorway": [
           "#636efa",
           "#EF553B",
           "#00cc96",
           "#ab63fa",
           "#FFA15A",
           "#19d3f3",
           "#FF6692",
           "#B6E880",
           "#FF97FF",
           "#FECB52"
          ],
          "font": {
           "color": "#2a3f5f"
          },
          "geo": {
           "bgcolor": "white",
           "lakecolor": "white",
           "landcolor": "#E5ECF6",
           "showlakes": true,
           "showland": true,
           "subunitcolor": "white"
          },
          "hoverlabel": {
           "align": "left"
          },
          "hovermode": "closest",
          "mapbox": {
           "style": "light"
          },
          "paper_bgcolor": "white",
          "plot_bgcolor": "#E5ECF6",
          "polar": {
           "angularaxis": {
            "gridcolor": "white",
            "linecolor": "white",
            "ticks": ""
           },
           "bgcolor": "#E5ECF6",
           "radialaxis": {
            "gridcolor": "white",
            "linecolor": "white",
            "ticks": ""
           }
          },
          "scene": {
           "xaxis": {
            "backgroundcolor": "#E5ECF6",
            "gridcolor": "white",
            "gridwidth": 2,
            "linecolor": "white",
            "showbackground": true,
            "ticks": "",
            "zerolinecolor": "white"
           },
           "yaxis": {
            "backgroundcolor": "#E5ECF6",
            "gridcolor": "white",
            "gridwidth": 2,
            "linecolor": "white",
            "showbackground": true,
            "ticks": "",
            "zerolinecolor": "white"
           },
           "zaxis": {
            "backgroundcolor": "#E5ECF6",
            "gridcolor": "white",
            "gridwidth": 2,
            "linecolor": "white",
            "showbackground": true,
            "ticks": "",
            "zerolinecolor": "white"
           }
          },
          "shapedefaults": {
           "line": {
            "color": "#2a3f5f"
           }
          },
          "ternary": {
           "aaxis": {
            "gridcolor": "white",
            "linecolor": "white",
            "ticks": ""
           },
           "baxis": {
            "gridcolor": "white",
            "linecolor": "white",
            "ticks": ""
           },
           "bgcolor": "#E5ECF6",
           "caxis": {
            "gridcolor": "white",
            "linecolor": "white",
            "ticks": ""
           }
          },
          "title": {
           "x": 0.05
          },
          "xaxis": {
           "automargin": true,
           "gridcolor": "white",
           "linecolor": "white",
           "ticks": "",
           "title": {
            "standoff": 15
           },
           "zerolinecolor": "white",
           "zerolinewidth": 2
          },
          "yaxis": {
           "automargin": true,
           "gridcolor": "white",
           "linecolor": "white",
           "ticks": "",
           "title": {
            "standoff": 15
           },
           "zerolinecolor": "white",
           "zerolinewidth": 2
          }
         }
        },
        "title": {
         "text": "Actual vs Predicted Values"
        },
        "xaxis": {
         "title": {
          "text": "Index"
         }
        },
        "yaxis": {
         "title": {
          "text": "Outage Duration"
         }
        }
       }
      }
     },
     "metadata": {},
     "output_type": "display_data"
    }
   ],
   "source": [
    "trace0 = go.Scatter(\n",
    "    x=np.arange(len(y_test)),\n",
    "    y=y_test,\n",
    "    mode='markers',\n",
    "    name='Actual Values'\n",
    ")\n",
    "trace1 = go.Scatter(\n",
    "    x=np.arange(len(y_pred)),\n",
    "    y=y_pred,\n",
    "    mode='markers',\n",
    "    name='Predicted Values'\n",
    ")\n",
    "\n",
    "# Create layout\n",
    "layout = go.Layout(\n",
    "    title='Actual vs Predicted Values',\n",
    "    xaxis=dict(title='Index'),\n",
    "    yaxis=dict(title='Outage Duration')\n",
    ")\n",
    "\n",
    "# Create figure and add traces\n",
    "fig = go.Figure(data=[trace0, trace1], layout=layout)\n",
    "\n",
    "# Show plot\n",
    "fig.show()"
   ]
  },
  {
   "cell_type": "markdown",
   "metadata": {},
   "source": [
    "### Final Model"
   ]
  },
  {
   "cell_type": "code",
   "execution_count": 16,
   "metadata": {
    "ExecuteTime": {
     "end_time": "2019-10-31T23:36:28.662099Z",
     "start_time": "2019-10-31T23:36:28.660016Z"
    }
   },
   "outputs": [
    {
     "name": "stdout",
     "output_type": "stream",
     "text": [
      "(1056, 20)\n",
      "Best parameters: {'model__learning_rate': 0.1, 'model__max_depth': 5, 'model__n_estimators': 100}\n",
      "Best score (CV): 2103.949307279464\n",
      "Test Mean Absolute Error: 1811.5526018572634\n"
     ]
    }
   ],
   "source": [
    "def extract_hour(time_val):\n",
    "    if pd.isna(time_val):\n",
    "        return np.nan\n",
    "    return time_val.hour\n",
    "\n",
    "df['OUTAGE.START.HOUR'] = df['OUTAGE.START.TIME'].apply(extract_hour)\n",
    "df['OUTAGE.RESTORATION.HOUR'] = df['OUTAGE.RESTORATION.TIME'].apply(extract_hour)\n",
    "\n",
    "print(df.shape)\n",
    "\n",
    "features = ['NERC.REGION', 'CLIMATE.REGION', 'ANOMALY.LEVEL', 'CLIMATE.CATEGORY', 'CAUSE.CATEGORY',\n",
    "            'CUSTOMERS.AFFECTED', 'POPULATION', 'U.S._STATE', 'CAUSE.CATEGORY.DETAIL',\n",
    "            'PI.UTIL.OFUSA']  # Add other relevant features\n",
    "target = 'OUTAGE.DURATION'\n",
    "\n",
    "X = df[features]\n",
    "y = df[target]\n",
    "\n",
    "# Split the data\n",
    "X_train, X_test, y_train, y_test = train_test_split(X, y, test_size=0.2)\n",
    "\n",
    "# Preprocessing\n",
    "numeric_features = ['ANOMALY.LEVEL', 'CUSTOMERS.AFFECTED', 'POPULATION', 'PI.UTIL.OFUSA']\n",
    "numeric_transformer = Pipeline(steps=[\n",
    "    ('imputer', SimpleImputer(strategy='median')),\n",
    "    ('scaler', StandardScaler()),\n",
    "    ('quantile', QuantileTransformer(n_quantiles=min(675, len(X_train)), output_distribution='uniform'))\n",
    "])\n",
    "\n",
    "categorical_features = ['NERC.REGION', 'CLIMATE.REGION', 'CLIMATE.CATEGORY', 'CAUSE.CATEGORY', 'U.S._STATE', 'CAUSE.CATEGORY.DETAIL']\n",
    "categorical_transformer = Pipeline(steps=[\n",
    "    ('imputer', SimpleImputer(strategy='constant', fill_value='missing')),\n",
    "    ('onehot', OneHotEncoder(handle_unknown='ignore'))\n",
    "])\n",
    "\n",
    "preprocessor = ColumnTransformer(\n",
    "    transformers=[\n",
    "        ('num', numeric_transformer, numeric_features),\n",
    "        ('cat', categorical_transformer, categorical_features)\n",
    "    ])\n",
    "\n",
    "# Model - Gradient Boosting Regressor\n",
    "model = GradientBoostingRegressor(loss='squared_error', min_impurity_decrease=0.01)\n",
    "\n",
    "# Pipeline\n",
    "pipeline = Pipeline(steps=[('preprocessor', preprocessor),\n",
    "                           ('model', model)])\n",
    "\n",
    "# Hyperparameter Tuning\n",
    "param_grid = {\n",
    "    'model__n_estimators': [100, 200],\n",
    "    'model__learning_rate': [0.01, 0.1, 0.2],\n",
    "    'model__max_depth': [3, 5, 7]\n",
    "}\n",
    "grid_search = GridSearchCV(pipeline, param_grid, cv=5, scoring='neg_mean_absolute_error')\n",
    "\n",
    "# Fit the model\n",
    "grid_search.fit(X_train, y_train)\n",
    "\n",
    "# Post-process predictions: Set negative values to 0\n",
    "y_pred = grid_search.predict(X_test)\n",
    "y_pred = np.where(y_pred < 0, 0, y_pred)\n",
    "\n",
    "# Evaluate the model\n",
    "mae = mean_absolute_error(y_test, y_pred)\n",
    "print(\"Best parameters:\", grid_search.best_params_)\n",
    "print(\"Best score (CV):\", -grid_search.best_score_)\n",
    "print(\"Test Mean Absolute Error:\", mae)"
   ]
  },
  {
   "cell_type": "code",
   "execution_count": 17,
   "metadata": {},
   "outputs": [
    {
     "data": {
      "application/vnd.plotly.v1+json": {
       "config": {
        "plotlyServerURL": "https://plot.ly"
       },
       "data": [
        {
         "mode": "markers",
         "name": "Actual Values",
         "type": "scatter",
         "x": [
          0,
          1,
          2,
          3,
          4,
          5,
          6,
          7,
          8,
          9,
          10,
          11,
          12,
          13,
          14,
          15,
          16,
          17,
          18,
          19,
          20,
          21,
          22,
          23,
          24,
          25,
          26,
          27,
          28,
          29,
          30,
          31,
          32,
          33,
          34,
          35,
          36,
          37,
          38,
          39,
          40,
          41,
          42,
          43,
          44,
          45,
          46,
          47,
          48,
          49,
          50,
          51,
          52,
          53,
          54,
          55,
          56,
          57,
          58,
          59,
          60,
          61,
          62,
          63,
          64,
          65,
          66,
          67,
          68,
          69,
          70,
          71,
          72,
          73,
          74,
          75,
          76,
          77,
          78,
          79,
          80,
          81,
          82,
          83,
          84,
          85,
          86,
          87,
          88,
          89,
          90,
          91,
          92,
          93,
          94,
          95,
          96,
          97,
          98,
          99,
          100,
          101,
          102,
          103,
          104,
          105,
          106,
          107,
          108,
          109,
          110,
          111,
          112,
          113,
          114,
          115,
          116,
          117,
          118,
          119,
          120,
          121,
          122,
          123,
          124,
          125,
          126,
          127,
          128,
          129,
          130,
          131,
          132,
          133,
          134,
          135,
          136,
          137,
          138,
          139,
          140,
          141,
          142,
          143,
          144,
          145,
          146,
          147,
          148,
          149,
          150,
          151,
          152,
          153,
          154,
          155,
          156,
          157,
          158,
          159,
          160,
          161,
          162,
          163,
          164,
          165,
          166,
          167,
          168,
          169,
          170,
          171,
          172,
          173,
          174,
          175,
          176,
          177,
          178,
          179,
          180,
          181,
          182,
          183,
          184,
          185,
          186,
          187,
          188,
          189,
          190,
          191,
          192,
          193,
          194,
          195,
          196,
          197,
          198,
          199,
          200,
          201,
          202,
          203,
          204,
          205,
          206,
          207,
          208,
          209,
          210,
          211
         ],
         "y": [
          0,
          1605,
          241,
          49427,
          3264,
          480,
          9230,
          513,
          4740,
          4259,
          45,
          1695,
          106,
          50,
          9600,
          285,
          3060,
          5579,
          7,
          210,
          160,
          15,
          3240,
          1037,
          274,
          1254,
          1470,
          233,
          900,
          1843,
          230,
          1895,
          1320,
          1200,
          4125,
          13430,
          4410,
          6480,
          2790,
          5054,
          5,
          418,
          3600,
          1044,
          7020,
          0,
          1200,
          0,
          108,
          3584,
          10274,
          732,
          7700,
          234,
          7080,
          91,
          1204,
          3180,
          2550,
          3189,
          0,
          30,
          182,
          33,
          4320,
          4710,
          2435,
          17812,
          4320,
          3040,
          4140,
          1560,
          75,
          455,
          4050,
          7609,
          909,
          5730,
          11430,
          70,
          4232,
          420,
          2700,
          0,
          13679,
          0,
          8979,
          166,
          348,
          7709,
          2820,
          72,
          6780,
          195,
          3915,
          76,
          3300,
          1455,
          697,
          6300,
          2220,
          9576,
          270,
          10499,
          210,
          5,
          1574,
          8054,
          960,
          49,
          200,
          1995,
          1005,
          4320,
          3050,
          1,
          4792,
          60,
          180,
          1072,
          95,
          28,
          2880,
          2520,
          10619,
          5040,
          624,
          6492,
          1697,
          160,
          60,
          8160,
          206,
          1950,
          2880,
          0,
          3360,
          44,
          1372,
          1,
          180,
          1272,
          2400,
          1565,
          11531,
          4320,
          761,
          5,
          5490,
          376,
          300,
          15,
          7803,
          428,
          575,
          3090,
          61,
          4254,
          959,
          4560,
          2760,
          388,
          50,
          4470,
          4139,
          1865,
          255,
          252,
          108,
          8670,
          871,
          457,
          1110,
          5595,
          528,
          365,
          129,
          7440,
          2639,
          106,
          1200,
          388,
          6,
          20280,
          569,
          240,
          0,
          2490,
          2551,
          900,
          15950,
          1485,
          196,
          2070,
          2818,
          6840,
          3339,
          167,
          6510,
          124,
          270,
          4110,
          0,
          1671,
          53,
          268,
          2515,
          334,
          1318,
          5790,
          215,
          26
         ]
        },
        {
         "mode": "markers",
         "name": "Predicted Values",
         "type": "scatter",
         "x": [
          0,
          1,
          2,
          3,
          4,
          5,
          6,
          7,
          8,
          9,
          10,
          11,
          12,
          13,
          14,
          15,
          16,
          17,
          18,
          19,
          20,
          21,
          22,
          23,
          24,
          25,
          26,
          27,
          28,
          29,
          30,
          31,
          32,
          33,
          34,
          35,
          36,
          37,
          38,
          39,
          40,
          41,
          42,
          43,
          44,
          45,
          46,
          47,
          48,
          49,
          50,
          51,
          52,
          53,
          54,
          55,
          56,
          57,
          58,
          59,
          60,
          61,
          62,
          63,
          64,
          65,
          66,
          67,
          68,
          69,
          70,
          71,
          72,
          73,
          74,
          75,
          76,
          77,
          78,
          79,
          80,
          81,
          82,
          83,
          84,
          85,
          86,
          87,
          88,
          89,
          90,
          91,
          92,
          93,
          94,
          95,
          96,
          97,
          98,
          99,
          100,
          101,
          102,
          103,
          104,
          105,
          106,
          107,
          108,
          109,
          110,
          111,
          112,
          113,
          114,
          115,
          116,
          117,
          118,
          119,
          120,
          121,
          122,
          123,
          124,
          125,
          126,
          127,
          128,
          129,
          130,
          131,
          132,
          133,
          134,
          135,
          136,
          137,
          138,
          139,
          140,
          141,
          142,
          143,
          144,
          145,
          146,
          147,
          148,
          149,
          150,
          151,
          152,
          153,
          154,
          155,
          156,
          157,
          158,
          159,
          160,
          161,
          162,
          163,
          164,
          165,
          166,
          167,
          168,
          169,
          170,
          171,
          172,
          173,
          174,
          175,
          176,
          177,
          178,
          179,
          180,
          181,
          182,
          183,
          184,
          185,
          186,
          187,
          188,
          189,
          190,
          191,
          192,
          193,
          194,
          195,
          196,
          197,
          198,
          199,
          200,
          201,
          202,
          203,
          204,
          205,
          206,
          207,
          208,
          209,
          210,
          211
         ],
         "y": [
          255.43714476969885,
          328.61966452172527,
          1743.2688315184957,
          6829.267533870286,
          2252.5107696715736,
          7526.071365327228,
          281.52120939068055,
          2458.8385040689486,
          10396.316226644429,
          4822.2289703988245,
          189.62230719390263,
          1023.0321744209197,
          882.0641232413021,
          0,
          1655.890181144175,
          701.5410691489222,
          2307.6541151112738,
          4314.060730019304,
          247.9212721697529,
          1357.583932782478,
          713.8280536110708,
          0,
          2881.591521019235,
          2807.380471986257,
          1096.9176825358204,
          487.84531654028564,
          2469.952544951783,
          421.8688511555255,
          2407.6309812643813,
          2416.589826481259,
          403.6192403222527,
          75.06687898849913,
          2097.7670072883925,
          1719.9767641531255,
          989.0572785574525,
          11437.493727609257,
          3312.0132954213295,
          7796.233214692258,
          4487.192146688417,
          1510.046965749925,
          88.11566546866223,
          263.5872168944113,
          5168.847372158259,
          5086.476460503956,
          3203.192927019836,
          49.79196297204089,
          5813.789447387928,
          306.38536919641854,
          159.43987417220168,
          3283.5611583837513,
          3506.09215612737,
          3649.543818233219,
          4028.753355258539,
          517.5670961411365,
          6077.872447243532,
          576.4597413965076,
          442.5573515696587,
          686.9598491593558,
          1993.1893428284359,
          2797.5710361808997,
          463.8457791433313,
          906.2200959190471,
          999.9752113375903,
          103.48705237567475,
          2289.875092078024,
          3428.7619581624363,
          1052.7925381632128,
          10997.059287251404,
          6996.446456441966,
          2097.7670072883925,
          11347.56628493338,
          1024.2347635674446,
          49.79196297204089,
          2326.9257008408385,
          4509.408508606146,
          2538.045118173484,
          228.58533589845342,
          4015.330288311619,
          8566.06058353214,
          495.80948452098767,
          4138.541869395801,
          1026.4230787396393,
          2148.3810293584634,
          437.74249651939886,
          3858.5079739272996,
          0,
          7234.976091373428,
          1822.8921624679401,
          5351.115035027712,
          4931.692813424975,
          4082.9598547883284,
          562.9459789560023,
          5353.857746430923,
          1146.9507987039767,
          4424.0202958437685,
          2348.5143101477997,
          2536.2492608684183,
          2286.763250245744,
          1077.9366105406696,
          4444.171688454844,
          2149.088233409503,
          7135.513624956669,
          3441.349412607561,
          2811.234187640896,
          2409.076787672795,
          301.5432454512474,
          2477.914870833359,
          6130.717583540437,
          2706.82921190357,
          2699.3176237620014,
          1394.7629881390046,
          3850.5059761454845,
          3786.2044782602675,
          2289.875092078024,
          3140.424686041307,
          448.94892773783084,
          2459.967175283767,
          263.9987080629235,
          329.6500296191947,
          679.1815120593202,
          242.81879819342842,
          399.27857426414874,
          3602.862341202132,
          2984.288588448946,
          7356.8850406680995,
          4747.182721394351,
          608.6358792981201,
          5035.266287941127,
          2329.216812326558,
          542.5050040174442,
          252.28874499146167,
          6600.6834132654985,
          805.3508748859331,
          2673.3024305640743,
          3689.9742483178507,
          49.79196297204089,
          5602.039820687823,
          44.842712872643816,
          2407.3166184996553,
          393.4974388940455,
          1566.2059662334086,
          952.7227334301368,
          4370.492055446073,
          2639.2134117574847,
          6200.9894237160825,
          3610.5772815053488,
          465.5658763381262,
          48.035563531889416,
          3708.9522746734337,
          1374.9121739982202,
          269.4338110147567,
          4113.040409606206,
          3708.823444934326,
          381.90540440630053,
          242.81879819342842,
          3889.4270439850497,
          304.0873089669517,
          2860.5438270450636,
          0,
          5832.673965125747,
          3452.08786308698,
          766.5306824586261,
          391.72291856810506,
          2996.322371546152,
          5430.835690940092,
          2830.6599189043454,
          3005.1283436784747,
          2649.5828395341196,
          49.79196297204089,
          21673.93231059371,
          25.454563121227867,
          0,
          1752.9575286050838,
          3122.0619195487175,
          1337.8023299192498,
          3320.124667289635,
          0,
          3157.805458466658,
          6545.022527012515,
          6070.275153498449,
          2163.359292028443,
          871.3309812721982,
          393.4974388940455,
          11356.542374022754,
          2343.570181481658,
          1146.6181559927256,
          49.79196297204089,
          2937.109373114787,
          1943.8675470804164,
          3880.6215874865284,
          8453.015317012638,
          1035.687334560831,
          1510.046965749925,
          826.3656447715301,
          9106.89883099235,
          4314.622408090917,
          2626.040044473009,
          153.51901720642257,
          4789.93964593885,
          1083.9204666606458,
          340.88221801706817,
          3870.6329583939546,
          0,
          3918.9198254581406,
          487.84531654028564,
          301.5432454512474,
          2894.4983197954625,
          1082.4854231879988,
          2729.6088208600104,
          4351.783785378859,
          164.40131061601141,
          44.842712872643816
         ]
        }
       ],
       "layout": {
        "template": {
         "data": {
          "bar": [
           {
            "error_x": {
             "color": "#2a3f5f"
            },
            "error_y": {
             "color": "#2a3f5f"
            },
            "marker": {
             "line": {
              "color": "#E5ECF6",
              "width": 0.5
             },
             "pattern": {
              "fillmode": "overlay",
              "size": 10,
              "solidity": 0.2
             }
            },
            "type": "bar"
           }
          ],
          "barpolar": [
           {
            "marker": {
             "line": {
              "color": "#E5ECF6",
              "width": 0.5
             },
             "pattern": {
              "fillmode": "overlay",
              "size": 10,
              "solidity": 0.2
             }
            },
            "type": "barpolar"
           }
          ],
          "carpet": [
           {
            "aaxis": {
             "endlinecolor": "#2a3f5f",
             "gridcolor": "white",
             "linecolor": "white",
             "minorgridcolor": "white",
             "startlinecolor": "#2a3f5f"
            },
            "baxis": {
             "endlinecolor": "#2a3f5f",
             "gridcolor": "white",
             "linecolor": "white",
             "minorgridcolor": "white",
             "startlinecolor": "#2a3f5f"
            },
            "type": "carpet"
           }
          ],
          "choropleth": [
           {
            "colorbar": {
             "outlinewidth": 0,
             "ticks": ""
            },
            "type": "choropleth"
           }
          ],
          "contour": [
           {
            "colorbar": {
             "outlinewidth": 0,
             "ticks": ""
            },
            "colorscale": [
             [
              0,
              "#0d0887"
             ],
             [
              0.1111111111111111,
              "#46039f"
             ],
             [
              0.2222222222222222,
              "#7201a8"
             ],
             [
              0.3333333333333333,
              "#9c179e"
             ],
             [
              0.4444444444444444,
              "#bd3786"
             ],
             [
              0.5555555555555556,
              "#d8576b"
             ],
             [
              0.6666666666666666,
              "#ed7953"
             ],
             [
              0.7777777777777778,
              "#fb9f3a"
             ],
             [
              0.8888888888888888,
              "#fdca26"
             ],
             [
              1,
              "#f0f921"
             ]
            ],
            "type": "contour"
           }
          ],
          "contourcarpet": [
           {
            "colorbar": {
             "outlinewidth": 0,
             "ticks": ""
            },
            "type": "contourcarpet"
           }
          ],
          "heatmap": [
           {
            "colorbar": {
             "outlinewidth": 0,
             "ticks": ""
            },
            "colorscale": [
             [
              0,
              "#0d0887"
             ],
             [
              0.1111111111111111,
              "#46039f"
             ],
             [
              0.2222222222222222,
              "#7201a8"
             ],
             [
              0.3333333333333333,
              "#9c179e"
             ],
             [
              0.4444444444444444,
              "#bd3786"
             ],
             [
              0.5555555555555556,
              "#d8576b"
             ],
             [
              0.6666666666666666,
              "#ed7953"
             ],
             [
              0.7777777777777778,
              "#fb9f3a"
             ],
             [
              0.8888888888888888,
              "#fdca26"
             ],
             [
              1,
              "#f0f921"
             ]
            ],
            "type": "heatmap"
           }
          ],
          "heatmapgl": [
           {
            "colorbar": {
             "outlinewidth": 0,
             "ticks": ""
            },
            "colorscale": [
             [
              0,
              "#0d0887"
             ],
             [
              0.1111111111111111,
              "#46039f"
             ],
             [
              0.2222222222222222,
              "#7201a8"
             ],
             [
              0.3333333333333333,
              "#9c179e"
             ],
             [
              0.4444444444444444,
              "#bd3786"
             ],
             [
              0.5555555555555556,
              "#d8576b"
             ],
             [
              0.6666666666666666,
              "#ed7953"
             ],
             [
              0.7777777777777778,
              "#fb9f3a"
             ],
             [
              0.8888888888888888,
              "#fdca26"
             ],
             [
              1,
              "#f0f921"
             ]
            ],
            "type": "heatmapgl"
           }
          ],
          "histogram": [
           {
            "marker": {
             "pattern": {
              "fillmode": "overlay",
              "size": 10,
              "solidity": 0.2
             }
            },
            "type": "histogram"
           }
          ],
          "histogram2d": [
           {
            "colorbar": {
             "outlinewidth": 0,
             "ticks": ""
            },
            "colorscale": [
             [
              0,
              "#0d0887"
             ],
             [
              0.1111111111111111,
              "#46039f"
             ],
             [
              0.2222222222222222,
              "#7201a8"
             ],
             [
              0.3333333333333333,
              "#9c179e"
             ],
             [
              0.4444444444444444,
              "#bd3786"
             ],
             [
              0.5555555555555556,
              "#d8576b"
             ],
             [
              0.6666666666666666,
              "#ed7953"
             ],
             [
              0.7777777777777778,
              "#fb9f3a"
             ],
             [
              0.8888888888888888,
              "#fdca26"
             ],
             [
              1,
              "#f0f921"
             ]
            ],
            "type": "histogram2d"
           }
          ],
          "histogram2dcontour": [
           {
            "colorbar": {
             "outlinewidth": 0,
             "ticks": ""
            },
            "colorscale": [
             [
              0,
              "#0d0887"
             ],
             [
              0.1111111111111111,
              "#46039f"
             ],
             [
              0.2222222222222222,
              "#7201a8"
             ],
             [
              0.3333333333333333,
              "#9c179e"
             ],
             [
              0.4444444444444444,
              "#bd3786"
             ],
             [
              0.5555555555555556,
              "#d8576b"
             ],
             [
              0.6666666666666666,
              "#ed7953"
             ],
             [
              0.7777777777777778,
              "#fb9f3a"
             ],
             [
              0.8888888888888888,
              "#fdca26"
             ],
             [
              1,
              "#f0f921"
             ]
            ],
            "type": "histogram2dcontour"
           }
          ],
          "mesh3d": [
           {
            "colorbar": {
             "outlinewidth": 0,
             "ticks": ""
            },
            "type": "mesh3d"
           }
          ],
          "parcoords": [
           {
            "line": {
             "colorbar": {
              "outlinewidth": 0,
              "ticks": ""
             }
            },
            "type": "parcoords"
           }
          ],
          "pie": [
           {
            "automargin": true,
            "type": "pie"
           }
          ],
          "scatter": [
           {
            "fillpattern": {
             "fillmode": "overlay",
             "size": 10,
             "solidity": 0.2
            },
            "type": "scatter"
           }
          ],
          "scatter3d": [
           {
            "line": {
             "colorbar": {
              "outlinewidth": 0,
              "ticks": ""
             }
            },
            "marker": {
             "colorbar": {
              "outlinewidth": 0,
              "ticks": ""
             }
            },
            "type": "scatter3d"
           }
          ],
          "scattercarpet": [
           {
            "marker": {
             "colorbar": {
              "outlinewidth": 0,
              "ticks": ""
             }
            },
            "type": "scattercarpet"
           }
          ],
          "scattergeo": [
           {
            "marker": {
             "colorbar": {
              "outlinewidth": 0,
              "ticks": ""
             }
            },
            "type": "scattergeo"
           }
          ],
          "scattergl": [
           {
            "marker": {
             "colorbar": {
              "outlinewidth": 0,
              "ticks": ""
             }
            },
            "type": "scattergl"
           }
          ],
          "scattermapbox": [
           {
            "marker": {
             "colorbar": {
              "outlinewidth": 0,
              "ticks": ""
             }
            },
            "type": "scattermapbox"
           }
          ],
          "scatterpolar": [
           {
            "marker": {
             "colorbar": {
              "outlinewidth": 0,
              "ticks": ""
             }
            },
            "type": "scatterpolar"
           }
          ],
          "scatterpolargl": [
           {
            "marker": {
             "colorbar": {
              "outlinewidth": 0,
              "ticks": ""
             }
            },
            "type": "scatterpolargl"
           }
          ],
          "scatterternary": [
           {
            "marker": {
             "colorbar": {
              "outlinewidth": 0,
              "ticks": ""
             }
            },
            "type": "scatterternary"
           }
          ],
          "surface": [
           {
            "colorbar": {
             "outlinewidth": 0,
             "ticks": ""
            },
            "colorscale": [
             [
              0,
              "#0d0887"
             ],
             [
              0.1111111111111111,
              "#46039f"
             ],
             [
              0.2222222222222222,
              "#7201a8"
             ],
             [
              0.3333333333333333,
              "#9c179e"
             ],
             [
              0.4444444444444444,
              "#bd3786"
             ],
             [
              0.5555555555555556,
              "#d8576b"
             ],
             [
              0.6666666666666666,
              "#ed7953"
             ],
             [
              0.7777777777777778,
              "#fb9f3a"
             ],
             [
              0.8888888888888888,
              "#fdca26"
             ],
             [
              1,
              "#f0f921"
             ]
            ],
            "type": "surface"
           }
          ],
          "table": [
           {
            "cells": {
             "fill": {
              "color": "#EBF0F8"
             },
             "line": {
              "color": "white"
             }
            },
            "header": {
             "fill": {
              "color": "#C8D4E3"
             },
             "line": {
              "color": "white"
             }
            },
            "type": "table"
           }
          ]
         },
         "layout": {
          "annotationdefaults": {
           "arrowcolor": "#2a3f5f",
           "arrowhead": 0,
           "arrowwidth": 1
          },
          "autotypenumbers": "strict",
          "coloraxis": {
           "colorbar": {
            "outlinewidth": 0,
            "ticks": ""
           }
          },
          "colorscale": {
           "diverging": [
            [
             0,
             "#8e0152"
            ],
            [
             0.1,
             "#c51b7d"
            ],
            [
             0.2,
             "#de77ae"
            ],
            [
             0.3,
             "#f1b6da"
            ],
            [
             0.4,
             "#fde0ef"
            ],
            [
             0.5,
             "#f7f7f7"
            ],
            [
             0.6,
             "#e6f5d0"
            ],
            [
             0.7,
             "#b8e186"
            ],
            [
             0.8,
             "#7fbc41"
            ],
            [
             0.9,
             "#4d9221"
            ],
            [
             1,
             "#276419"
            ]
           ],
           "sequential": [
            [
             0,
             "#0d0887"
            ],
            [
             0.1111111111111111,
             "#46039f"
            ],
            [
             0.2222222222222222,
             "#7201a8"
            ],
            [
             0.3333333333333333,
             "#9c179e"
            ],
            [
             0.4444444444444444,
             "#bd3786"
            ],
            [
             0.5555555555555556,
             "#d8576b"
            ],
            [
             0.6666666666666666,
             "#ed7953"
            ],
            [
             0.7777777777777778,
             "#fb9f3a"
            ],
            [
             0.8888888888888888,
             "#fdca26"
            ],
            [
             1,
             "#f0f921"
            ]
           ],
           "sequentialminus": [
            [
             0,
             "#0d0887"
            ],
            [
             0.1111111111111111,
             "#46039f"
            ],
            [
             0.2222222222222222,
             "#7201a8"
            ],
            [
             0.3333333333333333,
             "#9c179e"
            ],
            [
             0.4444444444444444,
             "#bd3786"
            ],
            [
             0.5555555555555556,
             "#d8576b"
            ],
            [
             0.6666666666666666,
             "#ed7953"
            ],
            [
             0.7777777777777778,
             "#fb9f3a"
            ],
            [
             0.8888888888888888,
             "#fdca26"
            ],
            [
             1,
             "#f0f921"
            ]
           ]
          },
          "colorway": [
           "#636efa",
           "#EF553B",
           "#00cc96",
           "#ab63fa",
           "#FFA15A",
           "#19d3f3",
           "#FF6692",
           "#B6E880",
           "#FF97FF",
           "#FECB52"
          ],
          "font": {
           "color": "#2a3f5f"
          },
          "geo": {
           "bgcolor": "white",
           "lakecolor": "white",
           "landcolor": "#E5ECF6",
           "showlakes": true,
           "showland": true,
           "subunitcolor": "white"
          },
          "hoverlabel": {
           "align": "left"
          },
          "hovermode": "closest",
          "mapbox": {
           "style": "light"
          },
          "paper_bgcolor": "white",
          "plot_bgcolor": "#E5ECF6",
          "polar": {
           "angularaxis": {
            "gridcolor": "white",
            "linecolor": "white",
            "ticks": ""
           },
           "bgcolor": "#E5ECF6",
           "radialaxis": {
            "gridcolor": "white",
            "linecolor": "white",
            "ticks": ""
           }
          },
          "scene": {
           "xaxis": {
            "backgroundcolor": "#E5ECF6",
            "gridcolor": "white",
            "gridwidth": 2,
            "linecolor": "white",
            "showbackground": true,
            "ticks": "",
            "zerolinecolor": "white"
           },
           "yaxis": {
            "backgroundcolor": "#E5ECF6",
            "gridcolor": "white",
            "gridwidth": 2,
            "linecolor": "white",
            "showbackground": true,
            "ticks": "",
            "zerolinecolor": "white"
           },
           "zaxis": {
            "backgroundcolor": "#E5ECF6",
            "gridcolor": "white",
            "gridwidth": 2,
            "linecolor": "white",
            "showbackground": true,
            "ticks": "",
            "zerolinecolor": "white"
           }
          },
          "shapedefaults": {
           "line": {
            "color": "#2a3f5f"
           }
          },
          "ternary": {
           "aaxis": {
            "gridcolor": "white",
            "linecolor": "white",
            "ticks": ""
           },
           "baxis": {
            "gridcolor": "white",
            "linecolor": "white",
            "ticks": ""
           },
           "bgcolor": "#E5ECF6",
           "caxis": {
            "gridcolor": "white",
            "linecolor": "white",
            "ticks": ""
           }
          },
          "title": {
           "x": 0.05
          },
          "xaxis": {
           "automargin": true,
           "gridcolor": "white",
           "linecolor": "white",
           "ticks": "",
           "title": {
            "standoff": 15
           },
           "zerolinecolor": "white",
           "zerolinewidth": 2
          },
          "yaxis": {
           "automargin": true,
           "gridcolor": "white",
           "linecolor": "white",
           "ticks": "",
           "title": {
            "standoff": 15
           },
           "zerolinecolor": "white",
           "zerolinewidth": 2
          }
         }
        },
        "title": {
         "text": "Actual vs Predicted Values"
        },
        "xaxis": {
         "title": {
          "text": "Index"
         }
        },
        "yaxis": {
         "title": {
          "text": "Outage Duration"
         }
        }
       }
      }
     },
     "metadata": {},
     "output_type": "display_data"
    }
   ],
   "source": [
    "trace0 = go.Scatter(\n",
    "    x=np.arange(len(y_test)),\n",
    "    y=y_test,\n",
    "    mode='markers',\n",
    "    name='Actual Values'\n",
    ")\n",
    "trace1 = go.Scatter(\n",
    "    x=np.arange(len(y_pred)),\n",
    "    y=y_pred,\n",
    "    mode='markers',\n",
    "    name='Predicted Values'\n",
    ")\n",
    "\n",
    "# Create layout\n",
    "layout = go.Layout(\n",
    "    title='Actual vs Predicted Values',\n",
    "    xaxis=dict(title='Index'),\n",
    "    yaxis=dict(title='Outage Duration')\n",
    ")\n",
    "\n",
    "# Create figure and add traces\n",
    "fig = go.Figure(data=[trace0, trace1], layout=layout)\n",
    "\n",
    "# Show plot\n",
    "fig.show()"
   ]
  },
  {
   "cell_type": "code",
   "execution_count": 22,
   "metadata": {},
   "outputs": [
    {
     "data": {
      "text/plain": [
       "(array([0, 0, 0, 0, 0, 0, 0, 0, 0, 0, 1, 0, 0, 1, 0, 0, 0, 0, 0, 0, 0, 1,\n",
       "        0, 0, 0, 0, 0, 1, 0, 0, 1, 0, 0, 0, 0, 0, 0, 0, 0, 0, 1, 1, 0, 0,\n",
       "        0, 1, 0, 0, 1, 0, 0, 0, 0, 0, 0, 0, 0, 0, 0, 0, 0, 0, 0, 1, 0, 0,\n",
       "        0, 0, 0, 0, 0, 0, 1, 0, 0, 0, 0, 0, 0, 0, 1, 0, 0, 0, 0, 1, 0, 0,\n",
       "        0, 0, 0, 0, 0, 0, 0, 0, 0, 0, 0, 0, 1, 0, 0, 0, 0, 0, 0, 0, 0, 0,\n",
       "        0, 0, 0, 0, 1, 0, 0, 1, 1, 0, 1, 0, 0, 0, 0, 0, 1, 0, 0, 0, 1, 0,\n",
       "        0, 0, 0, 1, 0, 1, 0, 0, 0, 0, 0, 0, 0, 0, 0, 1, 0, 0, 1, 0, 0, 1,\n",
       "        0, 0, 0, 0, 0, 0, 0, 0, 0, 0, 0, 0, 0, 0, 1, 0, 0, 0, 0, 0, 0, 0,\n",
       "        1, 0, 0, 0, 0, 0, 0, 0, 0, 0, 1, 0, 0, 0, 0, 0, 0, 0, 0, 0, 0, 1,\n",
       "        0, 0, 1, 1, 1, 0, 0, 1, 0, 0, 0, 0, 1, 1]),\n",
       " array([1, 1, 1, 1, 1, 1, 1, 1, 1, 1, 1, 1, 1, 1, 1, 1, 1, 1, 1, 1, 1, 1,\n",
       "        1, 1, 1, 1, 1, 1, 1, 1, 1, 1, 1, 1, 1, 1, 1, 1, 1, 1, 1, 1, 1, 1,\n",
       "        1, 1, 1, 1, 1, 1, 1, 1, 1, 1, 1, 1, 1, 1, 1, 1, 1, 1, 1, 1, 1, 1,\n",
       "        1, 1, 1, 1, 1, 1, 1, 1, 1, 1, 1, 1, 1, 1, 1, 1, 1, 1, 1, 1, 1, 1,\n",
       "        1, 1, 1, 1, 1, 1, 1, 1, 1, 1, 1, 1, 1, 1, 1, 1, 1, 1, 1, 1, 1, 1,\n",
       "        1, 1, 1, 1, 1, 1, 1, 1, 1, 1, 1, 1, 1, 1, 1, 1, 1, 1, 1, 1, 1, 1,\n",
       "        1, 1, 1, 1, 1, 1, 1, 1, 1, 1, 1, 1, 1, 1, 1, 1, 1, 1, 1, 1, 1, 1,\n",
       "        1, 1, 1, 1, 1, 1, 1, 1, 1, 1, 1, 1, 1, 1, 1, 1, 1, 1, 1, 1, 1, 1,\n",
       "        1, 1, 1, 1, 1, 1, 1, 1, 1, 1, 1, 1, 1, 1, 1, 1, 1, 1, 1, 1, 1, 1,\n",
       "        1, 1, 1, 1, 1, 1, 1, 1, 1, 1, 1, 1, 1, 1], dtype=object))"
      ]
     },
     "execution_count": 22,
     "metadata": {},
     "output_type": "execute_result"
    }
   ],
   "source": [
    "from sklearn.metrics import confusion_matrix\n",
    "\n",
    "def classify_predictions(y_true, y_pred, threshold=240):\n",
    "    return np.where(np.abs(np.array(y_true) - np.array(y_pred)) <= threshold, 1, 0)\n",
    "\n",
    "# Assuming y_test and y_pred are your actual and predicted values\n",
    "# Ensure y_test and y_pred are numpy arrays\n",
    "y_test_array = np.array(y_test)\n",
    "y_pred_array = np.array(y_pred)\n",
    "\n",
    "# Apply the function to get 'positive' (1) and 'negative' (0) predictions\n",
    "y_classified = classify_predictions(y_test_array, y_pred_array)\n",
    "\n",
    "# Create a binary array for y_test to match the 'positive' criteria\n",
    "y_actual_class = np.ones_like(y_test_array)\n",
    "\n",
    "y_classified, y_actual_class"
   ]
  },
  {
   "cell_type": "markdown",
   "metadata": {},
   "source": [
    "### Fairness Analysis"
   ]
  },
  {
   "cell_type": "code",
   "execution_count": null,
   "metadata": {
    "ExecuteTime": {
     "end_time": "2019-10-31T23:36:28.666489Z",
     "start_time": "2019-10-31T23:36:28.664381Z"
    }
   },
   "outputs": [],
   "source": [
    "# TODO"
   ]
  }
 ],
 "metadata": {
  "kernelspec": {
   "display_name": "Python 3 (ipykernel)",
   "language": "python",
   "name": "python3"
  },
  "language_info": {
   "codemirror_mode": {
    "name": "ipython",
    "version": 3
   },
   "file_extension": ".py",
   "mimetype": "text/x-python",
   "name": "python",
   "nbconvert_exporter": "python",
   "pygments_lexer": "ipython3",
   "version": "3.8.18"
  }
 },
 "nbformat": 4,
 "nbformat_minor": 2
}
